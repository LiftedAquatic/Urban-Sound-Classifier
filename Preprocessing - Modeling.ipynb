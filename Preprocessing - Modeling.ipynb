{
 "cells": [
  {
   "cell_type": "markdown",
   "metadata": {},
   "source": [
    "# Preprocessing & Modeling "
   ]
  },
  {
   "cell_type": "code",
   "execution_count": 1,
   "metadata": {},
   "outputs": [],
   "source": [
    "# import packages\n",
    "\n",
    "import pandas as pd\n",
    "import numpy as np\n",
    "import matplotlib.pyplot as plt\n",
    "%matplotlib inline\n",
    "import os\n",
    "\n",
    "import librosa as lr\n",
    "import librosa.display\n",
    "\n",
    "import wave\n",
    "from scipy.io import wavfile\n",
    "import IPython.display as idp \n",
    "\n",
    "import warnings\n",
    "warnings.filterwarnings(\"ignore\")"
   ]
  },
  {
   "cell_type": "code",
   "execution_count": 487,
   "metadata": {},
   "outputs": [],
   "source": [
    "# load dataframe\n",
    "\n",
    "audio_df = pd.read_pickle('/Users/spence/Documents/GitHub/Urban Sounds Classifier/UrbanSound8K/feature extraction /audio_df.pkl')\n",
    "audio_df_xtra = pd.read_pickle('/Users/spence/Documents/GitHub/Urban Sounds Classifier/UrbanSound8K/feature extraction /audio_df_xtra.pkl')"
   ]
  },
  {
   "cell_type": "code",
   "execution_count": 448,
   "metadata": {},
   "outputs": [
    {
     "data": {
      "text/plain": "Index(['slice_file_name', 'fsID', 'start', 'end', 'salience', 'fold',\n       'classID', 'class', 'num_channels', 'sample_rate', 'bit_depth',\n       'sound_len', 'mfccs'],\n      dtype='object')"
     },
     "execution_count": 448,
     "metadata": {},
     "output_type": "execute_result"
    }
   ],
   "source": [
    "# examine columns \n",
    "\n",
    "audio_df.columns "
   ]
  },
  {
   "cell_type": "code",
   "execution_count": 488,
   "metadata": {},
   "outputs": [
    {
     "data": {
      "text/plain": "Index(['slice_file_name', 'fsID', 'start', 'end', 'salience', 'fold',\n       'classID', 'class', 'num_channels', 'sample_rate', 'bit_depth',\n       'sound_len', 'mfccs', 'chroma', 'features', 'zero_cr'],\n      dtype='object')"
     },
     "execution_count": 488,
     "metadata": {},
     "output_type": "execute_result"
    }
   ],
   "source": [
    "# examine columns \n",
    "\n",
    "audio_df_xtra.columns "
   ]
  },
  {
   "cell_type": "markdown",
   "metadata": {},
   "source": [
    "## Preprocessing"
   ]
  },
  {
   "cell_type": "code",
   "execution_count": 202,
   "metadata": {},
   "outputs": [],
   "source": [
    "# import packages\n",
    "\n",
    "from sklearn.model_selection import train_test_split \n",
    "from sklearn.preprocessing import LabelEncoder, StandardScaler\n",
    "from tensorflow.keras.utils import to_categorical "
   ]
  },
  {
   "cell_type": "code",
   "execution_count": 424,
   "metadata": {},
   "outputs": [],
   "source": [
    "# create separate objects for independent and dependent variables \n",
    "X = np.array(audio_df['mfccs'].tolist())\n",
    "y = np.array(audio_df['class'].tolist())\n",
    "\n",
    "# label encode target variables \n",
    "le = LabelEncoder()\n",
    "y_ = to_categorical(le.fit_transform(y))\n",
    "\n",
    "# train/test split data\n",
    "X_train, X_test, y_train, y_test = train_test_split(X, y_, test_size=0.2, random_state=22)"
   ]
  },
  {
   "cell_type": "markdown",
   "metadata": {},
   "source": [
    "## Modeling "
   ]
  },
  {
   "cell_type": "code",
   "execution_count": 235,
   "metadata": {},
   "outputs": [],
   "source": [
    "# import packages \n",
    "\n",
    "from keras.models import Sequential\n",
    "from keras.layers import Dense, Dropout, Activation, Flatten\n",
    "from keras.layers import Convolution2D, Conv2D, Conv1D, MaxPooling2D, GlobalAveragePooling2D\n",
    "from sklearn import metrics "
   ]
  },
  {
   "cell_type": "markdown",
   "metadata": {},
   "source": [
    "We are going to implement a Convolutional Neural Network to classify our audio. CNN's are typically used in image recognition. Since we have compiled an image based on the frequency composition of our audio, this approach is appropriate. \n",
    "\n",
    "First we need to handle the shape of our data. For CNN's it's important that the input shapes are consistent, so the model knows how to scan the image by way of its kernal. We will reshape the audio-image to fit into a 2-Dimensional CNN. "
   ]
  },
  {
   "cell_type": "code",
   "execution_count": 425,
   "metadata": {},
   "outputs": [],
   "source": [
    "# reshape the data to fit into a 2-Dimensional CNN; 40, rows, 174 columns, 1 channel(mono)\n",
    "X_train = X_train.reshape(X_train.shape[0], 40, 174, 1)\n",
    "X_test = X_test.reshape(X_test.shape[0], 40, 174, 1)\n",
    "\n",
    "# create variable for the count of classes for our model's output layer; where predictions get mapped to the classes\n",
    "num_labels = y_.shape[1]\n",
    "\n",
    "# variable for the shape of our independent variable data \n",
    "shape = (40, 174, 1)\n"
   ]
  },
  {
   "cell_type": "markdown",
   "metadata": {},
   "source": [
    "_____________"
   ]
  },
  {
   "cell_type": "markdown",
   "metadata": {},
   "source": [
    "## Model 1"
   ]
  },
  {
   "cell_type": "code",
   "execution_count": 560,
   "metadata": {},
   "outputs": [],
   "source": [
    "# model architecture \n",
    "\n",
    "# instantiate model \n",
    "CNNmodel = Sequential()\n",
    "\n",
    "# construct layers \n",
    "CNNmodel.add(Conv2D(filters = 16, kernel_size = 3, activation='relu', input_shape=shape ))\n",
    "CNNmodel.add(MaxPooling2D((2,2)))\n",
    "CNNmodel.add(Dropout(0.2))\n",
    "\n",
    "CNNmodel.add(Conv2D(32, 3, activation='relu'))\n",
    "CNNmodel.add(MaxPooling2D((2,2)))\n",
    "CNNmodel.add(Dropout(0.2))\n",
    "\n",
    "CNNmodel.add(Conv2D(64, 3, activation='relu'))\n",
    "\n",
    "CNNmodel.add(Flatten())\n",
    "\n",
    "CNNmodel.add(Dense(64, activation='relu'))\n",
    "\n",
    "CNNmodel.add(Dense(num_labels, activation='softmax'))\n"
   ]
  },
  {
   "cell_type": "code",
   "execution_count": 561,
   "metadata": {},
   "outputs": [
    {
     "name": "stdout",
     "output_type": "stream",
     "text": [
      "Epoch 1/20\n",
      "219/219 [==============================] - 22s 71ms/step - loss: 1.5342 - accuracy: 0.5125 - val_loss: 1.0868 - val_accuracy: 0.6269\n",
      "Epoch 2/20\n",
      "219/219 [==============================] - 15s 68ms/step - loss: 0.8415 - accuracy: 0.7170 - val_loss: 0.7958 - val_accuracy: 0.7330\n",
      "Epoch 3/20\n",
      "219/219 [==============================] - 14s 66ms/step - loss: 0.5823 - accuracy: 0.8014 - val_loss: 0.8687 - val_accuracy: 0.7301\n",
      "Epoch 4/20\n",
      "219/219 [==============================] - 15s 67ms/step - loss: 0.4205 - accuracy: 0.8566 - val_loss: 0.5902 - val_accuracy: 0.8143\n",
      "Epoch 5/20\n",
      "219/219 [==============================] - 15s 67ms/step - loss: 0.3287 - accuracy: 0.8865 - val_loss: 0.5770 - val_accuracy: 0.8315\n",
      "Epoch 6/20\n",
      "219/219 [==============================] - 15s 66ms/step - loss: 0.2774 - accuracy: 0.9026 - val_loss: 0.6006 - val_accuracy: 0.8315\n",
      "Epoch 7/20\n",
      "219/219 [==============================] - 14s 65ms/step - loss: 0.1983 - accuracy: 0.9338 - val_loss: 0.5478 - val_accuracy: 0.8499\n",
      "Epoch 8/20\n",
      "219/219 [==============================] - 14s 65ms/step - loss: 0.1478 - accuracy: 0.9478 - val_loss: 0.6140 - val_accuracy: 0.8470\n",
      "Epoch 9/20\n",
      "219/219 [==============================] - 14s 65ms/step - loss: 0.1302 - accuracy: 0.9566 - val_loss: 0.6314 - val_accuracy: 0.8481\n",
      "Epoch 10/20\n",
      "219/219 [==============================] - 14s 65ms/step - loss: 0.1505 - accuracy: 0.9476 - val_loss: 0.6682 - val_accuracy: 0.8470\n",
      "Epoch 11/20\n",
      "219/219 [==============================] - 14s 66ms/step - loss: 0.0908 - accuracy: 0.9676 - val_loss: 1.0216 - val_accuracy: 0.8006\n",
      "Epoch 12/20\n",
      "219/219 [==============================] - 14s 65ms/step - loss: 0.1612 - accuracy: 0.9506 - val_loss: 0.6298 - val_accuracy: 0.8401\n",
      "Epoch 13/20\n",
      "219/219 [==============================] - 14s 65ms/step - loss: 0.0893 - accuracy: 0.9728 - val_loss: 0.7630 - val_accuracy: 0.8413\n",
      "Epoch 14/20\n",
      "219/219 [==============================] - 14s 66ms/step - loss: 0.1046 - accuracy: 0.9668 - val_loss: 0.7531 - val_accuracy: 0.8464\n",
      "Epoch 15/20\n",
      "219/219 [==============================] - 14s 66ms/step - loss: 0.0844 - accuracy: 0.9722 - val_loss: 0.7440 - val_accuracy: 0.8573\n",
      "Epoch 16/20\n",
      "219/219 [==============================] - 14s 66ms/step - loss: 0.1039 - accuracy: 0.9683 - val_loss: 0.8100 - val_accuracy: 0.8407\n",
      "Epoch 17/20\n",
      "219/219 [==============================] - 14s 66ms/step - loss: 0.0959 - accuracy: 0.9698 - val_loss: 0.7418 - val_accuracy: 0.8602\n",
      "Epoch 18/20\n",
      "219/219 [==============================] - 14s 66ms/step - loss: 0.0853 - accuracy: 0.9745 - val_loss: 0.7337 - val_accuracy: 0.8544\n",
      "Epoch 19/20\n",
      "219/219 [==============================] - 14s 65ms/step - loss: 0.0775 - accuracy: 0.9755 - val_loss: 1.0525 - val_accuracy: 0.8189\n",
      "Epoch 20/20\n",
      "219/219 [==============================] - 14s 65ms/step - loss: 0.0699 - accuracy: 0.9775 - val_loss: 0.8468 - val_accuracy: 0.8556\n"
     ]
    }
   ],
   "source": [
    "# compile & fit model \n",
    "\n",
    "CNNmodel.compile(optimizer='adam', loss='categorical_crossentropy', metrics=['accuracy'])\n",
    "\n",
    "fitted_model = CNNmodel.fit(X_train, y_train, epochs=20, validation_data=(X_test, y_test), verbose=1)"
   ]
  },
  {
   "cell_type": "code",
   "execution_count": 562,
   "metadata": {},
   "outputs": [
    {
     "name": "stdout",
     "output_type": "stream",
     "text": [
      "Training Accuracy:  0.9902564883232117\n",
      "Testing Accuracy:  0.855587363243103\n"
     ]
    }
   ],
   "source": [
    "# evaluate model on test set \n",
    "\n",
    "score = CNNmodel.evaluate(X_train, y_train, verbose=0)\n",
    "print(\"Training Accuracy: \", score[1])\n",
    "\n",
    "score = CNNmodel.evaluate(X_test, y_test, verbose=0)\n",
    "print(\"Testing Accuracy: \", score[1])"
   ]
  },
  {
   "cell_type": "markdown",
   "metadata": {},
   "source": [
    "Because of the gap between the training accuracy and the testing accuracy (~15%), we can deduce that our model is a bit overfitted. It has learned the training data very well, but is not generalizable to new, unseen data. "
   ]
  },
  {
   "cell_type": "code",
   "execution_count": 403,
   "metadata": {},
   "outputs": [
    {
     "data": {
      "image/png": "[encoded data removed]",
      "text/plain": "<Figure size 1080x360 with 2 Axes>"
     },
     "metadata": {
      "needs_background": "light"
     },
     "output_type": "display_data"
    }
   ],
   "source": [
    "history_dict=fitted_model.history\n",
    "loss_values=history_dict['loss']\n",
    "acc_values=history_dict['accuracy']\n",
    "val_loss_values = history_dict['val_loss']\n",
    "val_acc_values=history_dict['val_accuracy']\n",
    "epochs=range(1,21)\n",
    "fig,(ax1,ax2)=plt.subplots(1,2,figsize=(15,5))\n",
    "ax1.plot(epochs,loss_values,'bo',label='Training Loss')\n",
    "ax1.plot(epochs,val_loss_values,'orange', label='Validation Loss')\n",
    "ax1.set_title('Training and validation loss')\n",
    "ax1.set_xlabel('Epochs')\n",
    "ax1.set_ylabel('Loss')\n",
    "ax1.legend()\n",
    "ax2.plot(epochs,acc_values,'bo', label='Training accuracy')\n",
    "ax2.plot(epochs,val_acc_values,'orange',label='Validation accuracy')\n",
    "ax2.set_title('Training and validation accuracy')\n",
    "ax2.set_xlabel('Epochs')\n",
    "ax2.set_ylabel('Accuracy')\n",
    "ax2.legend()\n",
    "plt.show()"
   ]
  },
  {
   "cell_type": "markdown",
   "metadata": {},
   "source": [
    "We can see in the charts above that the model's validation accuracy doesn't improve much after 11 epochs. It's around that iteration count that it starts to overfit. "
   ]
  },
  {
   "cell_type": "markdown",
   "metadata": {},
   "source": [
    "--------"
   ]
  },
  {
   "cell_type": "markdown",
   "metadata": {},
   "source": [
    "## Model 2\n",
    "\n",
    "Here we will try a redesign of our model architecture. We will avoid flattening and adding a 'Dense' layer before the final output layer this time around. Instead we will use a 'Global Average Pooling' layer and only add a Dense layer at the end when it's necessary for mapping to the classes. "
   ]
  },
  {
   "cell_type": "code",
   "execution_count": 556,
   "metadata": {},
   "outputs": [],
   "source": [
    "# model architecture \n",
    "\n",
    "# instantiate model\n",
    "model = Sequential()\n",
    "\n",
    "# construct layers \n",
    "model.add(Conv2D(filters=16, kernel_size=3, activation='relu', input_shape=shape))\n",
    "model.add(MaxPooling2D(pool_size=2))\n",
    "model.add(Dropout(0.2))\n",
    "\n",
    "model.add(Conv2D(filters=32, kernel_size=3, activation='relu'))\n",
    "model.add(MaxPooling2D(pool_size=2))\n",
    "model.add(Dropout(0.2))\n",
    "\n",
    "model.add(Conv2D(filters=64, kernel_size=3, activation='relu'))\n",
    "model.add(MaxPooling2D(pool_size=2))\n",
    "model.add(Dropout(0.2))\n",
    "\n",
    "model.add(Conv2D(filters=128, kernel_size=3, activation='relu'))\n",
    "model.add(MaxPooling2D(pool_size=1))\n",
    "model.add(Dropout(0.2))\n",
    "\n",
    "model.add(GlobalAveragePooling2D())\n",
    "\n",
    "model.add(Dense(num_labels, activation='softmax')) "
   ]
  },
  {
   "cell_type": "code",
   "execution_count": 342,
   "metadata": {},
   "outputs": [
    {
     "name": "stdout",
     "output_type": "stream",
     "text": [
      "Epoch 1/100\n",
      "219/219 [==============================] - 12s 52ms/step - loss: 2.0865 - accuracy: 0.3429 - val_loss: 1.4727 - val_accuracy: 0.5421\n",
      "Epoch 2/100\n",
      "219/219 [==============================] - 11s 51ms/step - loss: 1.2771 - accuracy: 0.5499 - val_loss: 1.2227 - val_accuracy: 0.6069\n",
      "Epoch 3/100\n",
      "219/219 [==============================] - 11s 52ms/step - loss: 1.1080 - accuracy: 0.6090 - val_loss: 1.1529 - val_accuracy: 0.6132\n",
      "Epoch 4/100\n",
      "219/219 [==============================] - 11s 51ms/step - loss: 0.9718 - accuracy: 0.6597 - val_loss: 1.0126 - val_accuracy: 0.6596\n",
      "Epoch 5/100\n",
      "219/219 [==============================] - 11s 50ms/step - loss: 0.8690 - accuracy: 0.6939 - val_loss: 0.9062 - val_accuracy: 0.7060\n",
      "Epoch 6/100\n",
      "219/219 [==============================] - 11s 50ms/step - loss: 0.7762 - accuracy: 0.7341 - val_loss: 0.8908 - val_accuracy: 0.7198\n",
      "Epoch 7/100\n",
      "219/219 [==============================] - 11s 50ms/step - loss: 0.7111 - accuracy: 0.7606 - val_loss: 0.7880 - val_accuracy: 0.7473\n",
      "Epoch 8/100\n",
      "219/219 [==============================] - 11s 49ms/step - loss: 0.6256 - accuracy: 0.7844 - val_loss: 0.7892 - val_accuracy: 0.7433\n",
      "Epoch 9/100\n",
      "219/219 [==============================] - 11s 50ms/step - loss: 0.5763 - accuracy: 0.8136 - val_loss: 0.6632 - val_accuracy: 0.7817\n",
      "Epoch 10/100\n",
      "219/219 [==============================] - 11s 48ms/step - loss: 0.5453 - accuracy: 0.8179 - val_loss: 0.6060 - val_accuracy: 0.8149\n",
      "Epoch 11/100\n",
      "219/219 [==============================] - 10s 47ms/step - loss: 0.5236 - accuracy: 0.8187 - val_loss: 0.6348 - val_accuracy: 0.7994\n",
      "Epoch 12/100\n",
      "219/219 [==============================] - 10s 48ms/step - loss: 0.4768 - accuracy: 0.8351 - val_loss: 0.5954 - val_accuracy: 0.8149\n",
      "Epoch 13/100\n",
      "219/219 [==============================] - 10s 48ms/step - loss: 0.4470 - accuracy: 0.8480 - val_loss: 0.5281 - val_accuracy: 0.8447\n",
      "Epoch 14/100\n",
      "219/219 [==============================] - 10s 48ms/step - loss: 0.4363 - accuracy: 0.8474 - val_loss: 0.4769 - val_accuracy: 0.8596\n",
      "Epoch 15/100\n",
      "219/219 [==============================] - 10s 48ms/step - loss: 0.4034 - accuracy: 0.8629 - val_loss: 0.5362 - val_accuracy: 0.8269\n",
      "Epoch 16/100\n",
      "219/219 [==============================] - 10s 48ms/step - loss: 0.3859 - accuracy: 0.8677 - val_loss: 0.4692 - val_accuracy: 0.8516\n",
      "Epoch 17/100\n",
      "219/219 [==============================] - 10s 48ms/step - loss: 0.3688 - accuracy: 0.8733 - val_loss: 0.4054 - val_accuracy: 0.8774\n",
      "Epoch 18/100\n",
      "219/219 [==============================] - 10s 48ms/step - loss: 0.3461 - accuracy: 0.8796 - val_loss: 0.4380 - val_accuracy: 0.8636\n",
      "Epoch 19/100\n",
      "219/219 [==============================] - 11s 49ms/step - loss: 0.3463 - accuracy: 0.8756 - val_loss: 0.4553 - val_accuracy: 0.8590\n",
      "Epoch 20/100\n",
      "219/219 [==============================] - 11s 51ms/step - loss: 0.3302 - accuracy: 0.8915 - val_loss: 0.4519 - val_accuracy: 0.8682\n",
      "Epoch 21/100\n",
      "219/219 [==============================] - 11s 50ms/step - loss: 0.3188 - accuracy: 0.8927 - val_loss: 0.4640 - val_accuracy: 0.8636\n",
      "Epoch 22/100\n",
      "219/219 [==============================] - 11s 51ms/step - loss: 0.2908 - accuracy: 0.9003 - val_loss: 0.4367 - val_accuracy: 0.8676\n",
      "Epoch 23/100\n",
      "219/219 [==============================] - 11s 50ms/step - loss: 0.2822 - accuracy: 0.9037 - val_loss: 0.4111 - val_accuracy: 0.8819\n",
      "Epoch 24/100\n",
      "219/219 [==============================] - 11s 51ms/step - loss: 0.2842 - accuracy: 0.9000 - val_loss: 0.4498 - val_accuracy: 0.8648\n",
      "Epoch 25/100\n",
      "219/219 [==============================] - 11s 49ms/step - loss: 0.2665 - accuracy: 0.9070 - val_loss: 0.3863 - val_accuracy: 0.8842\n",
      "Epoch 26/100\n",
      "219/219 [==============================] - 11s 50ms/step - loss: 0.2739 - accuracy: 0.9049 - val_loss: 0.3930 - val_accuracy: 0.8837\n",
      "Epoch 27/100\n",
      "219/219 [==============================] - 11s 49ms/step - loss: 0.2499 - accuracy: 0.9152 - val_loss: 0.3773 - val_accuracy: 0.8831\n",
      "Epoch 28/100\n",
      "219/219 [==============================] - 11s 49ms/step - loss: 0.2477 - accuracy: 0.9186 - val_loss: 0.3795 - val_accuracy: 0.8888\n",
      "Epoch 29/100\n",
      "219/219 [==============================] - 11s 50ms/step - loss: 0.2236 - accuracy: 0.9229 - val_loss: 0.3318 - val_accuracy: 0.9106\n",
      "Epoch 30/100\n",
      "219/219 [==============================] - 11s 50ms/step - loss: 0.2283 - accuracy: 0.9239 - val_loss: 0.4124 - val_accuracy: 0.8814\n",
      "Epoch 31/100\n",
      "219/219 [==============================] - 11s 50ms/step - loss: 0.2251 - accuracy: 0.9233 - val_loss: 0.3271 - val_accuracy: 0.9089\n",
      "Epoch 32/100\n",
      "219/219 [==============================] - 11s 49ms/step - loss: 0.2085 - accuracy: 0.9279 - val_loss: 0.3527 - val_accuracy: 0.8991\n",
      "Epoch 33/100\n",
      "219/219 [==============================] - 11s 50ms/step - loss: 0.2224 - accuracy: 0.9236 - val_loss: 0.3415 - val_accuracy: 0.9014\n",
      "Epoch 34/100\n",
      "219/219 [==============================] - 11s 49ms/step - loss: 0.2096 - accuracy: 0.9289 - val_loss: 0.3856 - val_accuracy: 0.8923\n",
      "Epoch 35/100\n",
      "219/219 [==============================] - 11s 49ms/step - loss: 0.1983 - accuracy: 0.9325 - val_loss: 0.3461 - val_accuracy: 0.9077\n",
      "Epoch 36/100\n",
      "219/219 [==============================] - 11s 50ms/step - loss: 0.1849 - accuracy: 0.9365 - val_loss: 0.3336 - val_accuracy: 0.9083\n",
      "Epoch 37/100\n",
      "219/219 [==============================] - 11s 49ms/step - loss: 0.1849 - accuracy: 0.9355 - val_loss: 0.3886 - val_accuracy: 0.8917\n",
      "Epoch 38/100\n",
      "219/219 [==============================] - 11s 49ms/step - loss: 0.1769 - accuracy: 0.9395 - val_loss: 0.3737 - val_accuracy: 0.8946\n",
      "Epoch 39/100\n",
      "219/219 [==============================] - 11s 50ms/step - loss: 0.1763 - accuracy: 0.9402 - val_loss: 0.3050 - val_accuracy: 0.9117\n",
      "Epoch 40/100\n",
      "219/219 [==============================] - 11s 49ms/step - loss: 0.1860 - accuracy: 0.9380 - val_loss: 0.2727 - val_accuracy: 0.9221\n",
      "Epoch 41/100\n",
      "219/219 [==============================] - 11s 50ms/step - loss: 0.1645 - accuracy: 0.9418 - val_loss: 0.3719 - val_accuracy: 0.8997\n",
      "Epoch 42/100\n",
      "219/219 [==============================] - 11s 50ms/step - loss: 0.1649 - accuracy: 0.9402 - val_loss: 0.3360 - val_accuracy: 0.9152\n",
      "Epoch 43/100\n",
      "219/219 [==============================] - 11s 49ms/step - loss: 0.1889 - accuracy: 0.9337 - val_loss: 0.3219 - val_accuracy: 0.9135\n",
      "Epoch 44/100\n",
      "219/219 [==============================] - 11s 50ms/step - loss: 0.1534 - accuracy: 0.9488 - val_loss: 0.3176 - val_accuracy: 0.9186\n",
      "Epoch 45/100\n",
      "219/219 [==============================] - 11s 50ms/step - loss: 0.1552 - accuracy: 0.9458 - val_loss: 0.3663 - val_accuracy: 0.9140\n",
      "Epoch 46/100\n",
      "219/219 [==============================] - 11s 49ms/step - loss: 0.1501 - accuracy: 0.9477 - val_loss: 0.3517 - val_accuracy: 0.9037\n",
      "Epoch 47/100\n",
      "219/219 [==============================] - 11s 49ms/step - loss: 0.1464 - accuracy: 0.9510 - val_loss: 0.3136 - val_accuracy: 0.9186\n",
      "Epoch 48/100\n",
      "219/219 [==============================] - 11s 50ms/step - loss: 0.1434 - accuracy: 0.9491 - val_loss: 0.3384 - val_accuracy: 0.9072\n",
      "Epoch 49/100\n",
      "219/219 [==============================] - 11s 50ms/step - loss: 0.1609 - accuracy: 0.9467 - val_loss: 0.2971 - val_accuracy: 0.9221\n",
      "Epoch 50/100\n",
      "219/219 [==============================] - 11s 50ms/step - loss: 0.1603 - accuracy: 0.9453 - val_loss: 0.3725 - val_accuracy: 0.8951\n",
      "Epoch 51/100\n",
      "219/219 [==============================] - 11s 50ms/step - loss: 0.1433 - accuracy: 0.9503 - val_loss: 0.3424 - val_accuracy: 0.9072\n",
      "Epoch 52/100\n",
      "219/219 [==============================] - 11s 51ms/step - loss: 0.1460 - accuracy: 0.9510 - val_loss: 0.3948 - val_accuracy: 0.8957\n",
      "Epoch 53/100\n",
      "219/219 [==============================] - 11s 52ms/step - loss: 0.1602 - accuracy: 0.9415 - val_loss: 0.3326 - val_accuracy: 0.9186\n",
      "Epoch 54/100\n",
      "219/219 [==============================] - 11s 52ms/step - loss: 0.1362 - accuracy: 0.9544 - val_loss: 0.3801 - val_accuracy: 0.9009\n",
      "Epoch 55/100\n",
      "219/219 [==============================] - 11s 51ms/step - loss: 0.1561 - accuracy: 0.9441 - val_loss: 0.3464 - val_accuracy: 0.9152\n",
      "Epoch 56/100\n",
      "219/219 [==============================] - 11s 50ms/step - loss: 0.1274 - accuracy: 0.9567 - val_loss: 0.3046 - val_accuracy: 0.9198\n",
      "Epoch 57/100\n",
      "219/219 [==============================] - 11s 50ms/step - loss: 0.1294 - accuracy: 0.9544 - val_loss: 0.3132 - val_accuracy: 0.9221\n",
      "Epoch 58/100\n",
      "219/219 [==============================] - 11s 50ms/step - loss: 0.1158 - accuracy: 0.9627 - val_loss: 0.3168 - val_accuracy: 0.9203\n",
      "Epoch 59/100\n",
      "219/219 [==============================] - 11s 50ms/step - loss: 0.1508 - accuracy: 0.9488 - val_loss: 0.3559 - val_accuracy: 0.9181\n",
      "Epoch 60/100\n",
      "219/219 [==============================] - 11s 50ms/step - loss: 0.1350 - accuracy: 0.9573 - val_loss: 0.3318 - val_accuracy: 0.9152\n",
      "Epoch 61/100\n",
      "219/219 [==============================] - 11s 50ms/step - loss: 0.1403 - accuracy: 0.9524 - val_loss: 0.3035 - val_accuracy: 0.9255\n",
      "Epoch 62/100\n",
      "219/219 [==============================] - 11s 51ms/step - loss: 0.1171 - accuracy: 0.9576 - val_loss: 0.3231 - val_accuracy: 0.9215\n",
      "Epoch 63/100\n",
      "219/219 [==============================] - 11s 50ms/step - loss: 0.1325 - accuracy: 0.9539 - val_loss: 0.3002 - val_accuracy: 0.9295\n",
      "Epoch 64/100\n",
      "219/219 [==============================] - 11s 51ms/step - loss: 0.1019 - accuracy: 0.9680 - val_loss: 0.3306 - val_accuracy: 0.9186\n",
      "Epoch 65/100\n",
      "219/219 [==============================] - 11s 49ms/step - loss: 0.1435 - accuracy: 0.9529 - val_loss: 0.3344 - val_accuracy: 0.9244\n",
      "Epoch 66/100\n",
      "219/219 [==============================] - 11s 49ms/step - loss: 0.1165 - accuracy: 0.9589 - val_loss: 0.2947 - val_accuracy: 0.9261\n",
      "Epoch 67/100\n",
      "219/219 [==============================] - 10s 48ms/step - loss: 0.1097 - accuracy: 0.9620 - val_loss: 0.3056 - val_accuracy: 0.9192\n",
      "Epoch 68/100\n",
      "219/219 [==============================] - 11s 48ms/step - loss: 0.1266 - accuracy: 0.9587 - val_loss: 0.2831 - val_accuracy: 0.9203\n",
      "Epoch 69/100\n",
      "219/219 [==============================] - 11s 48ms/step - loss: 0.1127 - accuracy: 0.9603 - val_loss: 0.3541 - val_accuracy: 0.9117\n",
      "Epoch 70/100\n",
      "219/219 [==============================] - 11s 48ms/step - loss: 0.1174 - accuracy: 0.9572 - val_loss: 0.3354 - val_accuracy: 0.9152\n",
      "Epoch 71/100\n",
      "219/219 [==============================] - 11s 49ms/step - loss: 0.1214 - accuracy: 0.9586 - val_loss: 0.3477 - val_accuracy: 0.9135\n",
      "Epoch 72/100\n",
      "219/219 [==============================] - 11s 50ms/step - loss: 0.1264 - accuracy: 0.9583 - val_loss: 0.3178 - val_accuracy: 0.9192\n",
      "Epoch 73/100\n",
      "219/219 [==============================] - 11s 49ms/step - loss: 0.0930 - accuracy: 0.9698 - val_loss: 0.3386 - val_accuracy: 0.9198\n",
      "Epoch 74/100\n",
      "219/219 [==============================] - 11s 49ms/step - loss: 0.1059 - accuracy: 0.9643 - val_loss: 0.3048 - val_accuracy: 0.9244\n",
      "Epoch 75/100\n",
      "219/219 [==============================] - 11s 49ms/step - loss: 0.0973 - accuracy: 0.9679 - val_loss: 0.3819 - val_accuracy: 0.9135\n",
      "Epoch 76/100\n",
      "219/219 [==============================] - 11s 50ms/step - loss: 0.1062 - accuracy: 0.9609 - val_loss: 0.3221 - val_accuracy: 0.9209\n",
      "Epoch 77/100\n",
      "219/219 [==============================] - 11s 50ms/step - loss: 0.0990 - accuracy: 0.9643 - val_loss: 0.3909 - val_accuracy: 0.9135\n",
      "Epoch 78/100\n",
      "219/219 [==============================] - 11s 50ms/step - loss: 0.1104 - accuracy: 0.9627 - val_loss: 0.3397 - val_accuracy: 0.9221\n",
      "Epoch 79/100\n",
      "219/219 [==============================] - 11s 50ms/step - loss: 0.1086 - accuracy: 0.9649 - val_loss: 0.3590 - val_accuracy: 0.9261\n",
      "Epoch 80/100\n",
      "219/219 [==============================] - 11s 50ms/step - loss: 0.1023 - accuracy: 0.9649 - val_loss: 0.3189 - val_accuracy: 0.9221\n",
      "Epoch 81/100\n",
      "219/219 [==============================] - 11s 50ms/step - loss: 0.1106 - accuracy: 0.9620 - val_loss: 0.3755 - val_accuracy: 0.9146\n",
      "Epoch 82/100\n",
      "219/219 [==============================] - 11s 51ms/step - loss: 0.1464 - accuracy: 0.9524 - val_loss: 0.2886 - val_accuracy: 0.9244\n",
      "Epoch 83/100\n",
      "219/219 [==============================] - 11s 50ms/step - loss: 0.0944 - accuracy: 0.9683 - val_loss: 0.3998 - val_accuracy: 0.9117\n",
      "Epoch 84/100\n",
      "219/219 [==============================] - 11s 50ms/step - loss: 0.0939 - accuracy: 0.9672 - val_loss: 0.3159 - val_accuracy: 0.9255\n",
      "Epoch 85/100\n",
      "219/219 [==============================] - 11s 50ms/step - loss: 0.0850 - accuracy: 0.9689 - val_loss: 0.3081 - val_accuracy: 0.9295\n",
      "Epoch 86/100\n",
      "219/219 [==============================] - 11s 50ms/step - loss: 0.0961 - accuracy: 0.9666 - val_loss: 0.3681 - val_accuracy: 0.9095\n",
      "Epoch 87/100\n",
      "219/219 [==============================] - 11s 51ms/step - loss: 0.1044 - accuracy: 0.9663 - val_loss: 0.3346 - val_accuracy: 0.9221\n",
      "Epoch 88/100\n",
      "219/219 [==============================] - 11s 51ms/step - loss: 0.1047 - accuracy: 0.9635 - val_loss: 0.3745 - val_accuracy: 0.9186\n",
      "Epoch 89/100\n",
      "219/219 [==============================] - 11s 50ms/step - loss: 0.0924 - accuracy: 0.9686 - val_loss: 0.3546 - val_accuracy: 0.9261\n",
      "Epoch 90/100\n",
      "219/219 [==============================] - 11s 50ms/step - loss: 0.1086 - accuracy: 0.9653 - val_loss: 0.3471 - val_accuracy: 0.9266\n",
      "Epoch 91/100\n",
      "219/219 [==============================] - 11s 50ms/step - loss: 0.1030 - accuracy: 0.9640 - val_loss: 0.3637 - val_accuracy: 0.9221\n",
      "Epoch 92/100\n",
      "219/219 [==============================] - 11s 51ms/step - loss: 0.0939 - accuracy: 0.9668 - val_loss: 0.3090 - val_accuracy: 0.9289\n",
      "Epoch 93/100\n",
      "219/219 [==============================] - 11s 51ms/step - loss: 0.0774 - accuracy: 0.9733 - val_loss: 0.3004 - val_accuracy: 0.9330\n",
      "Epoch 94/100\n",
      "219/219 [==============================] - 11s 50ms/step - loss: 0.0959 - accuracy: 0.9693 - val_loss: 0.3715 - val_accuracy: 0.9198\n",
      "Epoch 95/100\n",
      "219/219 [==============================] - 11s 50ms/step - loss: 0.0890 - accuracy: 0.9698 - val_loss: 0.3153 - val_accuracy: 0.9318\n",
      "Epoch 96/100\n",
      "219/219 [==============================] - 11s 51ms/step - loss: 0.1017 - accuracy: 0.9669 - val_loss: 0.3472 - val_accuracy: 0.9186\n",
      "Epoch 97/100\n",
      "219/219 [==============================] - 11s 50ms/step - loss: 0.1050 - accuracy: 0.9640 - val_loss: 0.3396 - val_accuracy: 0.9226\n",
      "Epoch 98/100\n",
      "219/219 [==============================] - 11s 52ms/step - loss: 0.0922 - accuracy: 0.9673 - val_loss: 0.3285 - val_accuracy: 0.9284\n",
      "Epoch 99/100\n",
      "219/219 [==============================] - 11s 50ms/step - loss: 0.0963 - accuracy: 0.9683 - val_loss: 0.2766 - val_accuracy: 0.9330\n",
      "Epoch 100/100\n",
      "219/219 [==============================] - 11s 51ms/step - loss: 0.0883 - accuracy: 0.9695 - val_loss: 0.3101 - val_accuracy: 0.9307\n"
     ]
    },
    {
     "data": {
      "text/plain": "<keras.callbacks.History at 0x1a19031c0>"
     },
     "execution_count": 342,
     "metadata": {},
     "output_type": "execute_result"
    }
   ],
   "source": [
    "# compile and fit model \n",
    "\n",
    "model.compile(optimizer='adam', loss='categorical_crossentropy', metrics=['accuracy']) \n",
    "\n",
    "model_ = model.fit(X_train, y_train, epochs=100, validation_data=(X_test, y_test), verbose=1)"
   ]
  },
  {
   "cell_type": "code",
   "execution_count": 423,
   "metadata": {},
   "outputs": [
    {
     "name": "stdout",
     "output_type": "stream",
     "text": [
      "Training Accuracy:  0.9955580830574036\n",
      "Testing Accuracy:  0.9358166456222534\n"
     ]
    }
   ],
   "source": [
    "# Evaluating the model on the training and testing set\n",
    "score = model.evaluate(X_train, y_train, verbose=0)\n",
    "print(\"Training Accuracy: \", score[1])\n",
    "\n",
    "score = model.evaluate(X_test, y_test, verbose=0)\n",
    "print(\"Testing Accuracy: \", score[1])"
   ]
  },
  {
   "cell_type": "markdown",
   "metadata": {},
   "source": [
    "These are great training and test scores! Our training and testing scores are relatively close (~7% difference) which shows that the model hasn't been overfitted. 93.5% accuracy on unseen data is generally very good. "
   ]
  },
  {
   "cell_type": "code",
   "execution_count": 428,
   "metadata": {},
   "outputs": [
    {
     "data": {
      "image/png": "[encoded data removed]",
      "text/plain": "<Figure size 1080x360 with 2 Axes>"
     },
     "metadata": {
      "needs_background": "light"
     },
     "output_type": "display_data"
    }
   ],
   "source": [
    "history_dict=model_.history\n",
    "loss_values=history_dict['loss']\n",
    "acc_values=history_dict['accuracy']\n",
    "val_loss_values = history_dict['val_loss']\n",
    "val_acc_values=history_dict['val_accuracy']\n",
    "epochs=range(1,101)\n",
    "fig,(ax1,ax2)=plt.subplots(1,2,figsize=(15,5))\n",
    "ax1.plot(epochs,loss_values,'bo',label='Training Loss')\n",
    "ax1.plot(epochs,val_loss_values,'orange', label='Validation Loss')\n",
    "ax1.set_title('Training and validation loss')\n",
    "ax1.set_xlabel('Epochs')\n",
    "ax1.set_ylabel('Loss')\n",
    "ax1.legend()\n",
    "ax2.plot(epochs,acc_values,'bo', label='Training accuracy')\n",
    "ax2.plot(epochs,val_acc_values,'orange',label='Validation accuracy')\n",
    "ax2.set_title('Training and validation accuracy')\n",
    "ax2.set_xlabel('Epochs')\n",
    "ax2.set_ylabel('Accuracy')\n",
    "ax2.legend()\n",
    "plt.show()"
   ]
  },
  {
   "cell_type": "markdown",
   "metadata": {},
   "source": [
    "As we can see, the accuracy increases and flattens out around 90% accuracy at about 30 epochs and slowly moves up from there. "
   ]
  },
  {
   "cell_type": "markdown",
   "metadata": {},
   "source": [
    "_____________"
   ]
  },
  {
   "cell_type": "markdown",
   "metadata": {},
   "source": [
    "## Model 3"
   ]
  },
  {
   "cell_type": "markdown",
   "metadata": {},
   "source": [
    "Model redesign with enhanced feature space. Previously, we only used MFCC's as the feature to analyze for classification. In this round, we will include Chromagrams and Zero Cross Rate in our feature space to see if we can boost the accuracy score up. "
   ]
  },
  {
   "cell_type": "code",
   "execution_count": 510,
   "metadata": {},
   "outputs": [],
   "source": [
    "# create seperate objects for independent and dependent variables \n",
    "X = np.array(audio_df_xtra['features'].tolist())\n",
    "y = np.array(audio_df_xtra['class'].tolist())\n",
    "\n",
    "# label encode target variables \n",
    "le = LabelEncoder()\n",
    "y_ = to_categorical(le.fit_transform(y))\n",
    "\n",
    "# train/test split data\n",
    "X_train, X_test, y_train, y_test = train_test_split(X, y_, test_size=0.2, random_state=22)"
   ]
  },
  {
   "cell_type": "code",
   "execution_count": 511,
   "metadata": {},
   "outputs": [],
   "source": [
    "# reshape the data to fit into a 2-Dimensional CNN; 42 (beause two new features were added), 174, 1\n",
    "X_train = X_train.reshape(X_train.shape[0], 42, 174, 1)\n",
    "X_test = X_test.reshape(X_test.shape[0], 42, 174, 1)\n",
    "\n",
    "# create variable for the count of classes for our model's output layer; where predictions get mapped to the classes\n",
    "class_count = y_.shape[1]\n",
    "\n",
    "# variable for the shape of our independent variable data \n",
    "shape = (42, 174, 1)"
   ]
  },
  {
   "cell_type": "code",
   "execution_count": 546,
   "metadata": {},
   "outputs": [],
   "source": [
    "# model architecture - using the same architecture as the previous model \n",
    "\n",
    "# instantiate model\n",
    "model_3 = Sequential()\n",
    "\n",
    "# construct layers \n",
    "model_3.add(Conv2D(filters=16, kernel_size=3, activation='relu', input_shape=shape))\n",
    "model_3.add(MaxPooling2D(pool_size=2))\n",
    "model_3.add(Dropout(0.2))\n",
    "\n",
    "model_3.add(Conv2D(filters=32, kernel_size=3, activation='relu'))\n",
    "model_3.add(MaxPooling2D(pool_size=2))\n",
    "model_3.add(Dropout(0.2))\n",
    "\n",
    "model_3.add(Conv2D(filters=64, kernel_size=3, activation='relu'))\n",
    "model_3.add(MaxPooling2D(pool_size=2))\n",
    "model_3.add(Dropout(0.2))\n",
    "\n",
    "model_3.add(Conv2D(filters=128, kernel_size=3, activation='relu'))\n",
    "model_3.add(MaxPooling2D(pool_size=1))\n",
    "model_3.add(Dropout(0.2))\n",
    "\n",
    "model_3.add(Conv2D(filters=256, kernel_size=1, activation='relu'))\n",
    "model_3.add(MaxPooling2D(pool_size=1))\n",
    "model_3.add(Dropout(0.2))\n",
    "\n",
    "model_3.add(GlobalAveragePooling2D())\n",
    "\n",
    "model_3.add(Dense(num_labels, activation='softmax')) "
   ]
  },
  {
   "cell_type": "code",
   "execution_count": 547,
   "metadata": {},
   "outputs": [],
   "source": [
    "# compile model \n",
    "\n",
    "model_3.compile(optimizer='adam', loss='categorical_crossentropy', metrics=['accuracy']) "
   ]
  },
  {
   "cell_type": "code",
   "execution_count": 548,
   "metadata": {},
   "outputs": [
    {
     "name": "stdout",
     "output_type": "stream",
     "text": [
      "Epoch 1/100\n",
      "219/219 [==============================] - 18s 73ms/step - loss: 1.5594 - accuracy: 0.4541 - val_loss: 1.1985 - val_accuracy: 0.6120\n",
      "Epoch 2/100\n",
      "219/219 [==============================] - 15s 70ms/step - loss: 1.0346 - accuracy: 0.6326 - val_loss: 1.0606 - val_accuracy: 0.6527\n",
      "Epoch 3/100\n",
      "219/219 [==============================] - 15s 69ms/step - loss: 0.8105 - accuracy: 0.7225 - val_loss: 0.7242 - val_accuracy: 0.7639\n",
      "Epoch 4/100\n",
      "219/219 [==============================] - 15s 68ms/step - loss: 0.6354 - accuracy: 0.7801 - val_loss: 0.6780 - val_accuracy: 0.7759\n",
      "Epoch 5/100\n",
      "219/219 [==============================] - 15s 68ms/step - loss: 0.5485 - accuracy: 0.8117 - val_loss: 0.5736 - val_accuracy: 0.8132\n",
      "Epoch 6/100\n",
      "219/219 [==============================] - 15s 67ms/step - loss: 0.4584 - accuracy: 0.8427 - val_loss: 0.4766 - val_accuracy: 0.8390\n",
      "Epoch 7/100\n",
      "219/219 [==============================] - 15s 68ms/step - loss: 0.3871 - accuracy: 0.8682 - val_loss: 0.5159 - val_accuracy: 0.8458\n",
      "Epoch 8/100\n",
      "219/219 [==============================] - 15s 68ms/step - loss: 0.3572 - accuracy: 0.8789 - val_loss: 0.5211 - val_accuracy: 0.8367\n",
      "Epoch 9/100\n",
      "219/219 [==============================] - 15s 68ms/step - loss: 0.3498 - accuracy: 0.8839 - val_loss: 0.4313 - val_accuracy: 0.8722\n",
      "Epoch 10/100\n",
      "219/219 [==============================] - 15s 69ms/step - loss: 0.3127 - accuracy: 0.8957 - val_loss: 0.3728 - val_accuracy: 0.8865\n",
      "Epoch 11/100\n",
      "219/219 [==============================] - 15s 70ms/step - loss: 0.2453 - accuracy: 0.9146 - val_loss: 0.4291 - val_accuracy: 0.8693\n",
      "Epoch 12/100\n",
      "219/219 [==============================] - 15s 69ms/step - loss: 0.2643 - accuracy: 0.9119 - val_loss: 0.3784 - val_accuracy: 0.8883\n",
      "Epoch 13/100\n",
      "219/219 [==============================] - 15s 68ms/step - loss: 0.2596 - accuracy: 0.9123 - val_loss: 0.3497 - val_accuracy: 0.8946\n",
      "Epoch 14/100\n",
      "219/219 [==============================] - 15s 69ms/step - loss: 0.1978 - accuracy: 0.9314 - val_loss: 0.3830 - val_accuracy: 0.8934\n",
      "Epoch 15/100\n",
      "219/219 [==============================] - 15s 68ms/step - loss: 0.1889 - accuracy: 0.9339 - val_loss: 0.3823 - val_accuracy: 0.8911\n",
      "Epoch 16/100\n",
      "219/219 [==============================] - 15s 70ms/step - loss: 0.1927 - accuracy: 0.9374 - val_loss: 0.4522 - val_accuracy: 0.8791\n",
      "Epoch 17/100\n",
      "219/219 [==============================] - 15s 70ms/step - loss: 0.1682 - accuracy: 0.9448 - val_loss: 0.3123 - val_accuracy: 0.9117\n",
      "Epoch 18/100\n",
      "219/219 [==============================] - 15s 68ms/step - loss: 0.1563 - accuracy: 0.9464 - val_loss: 0.3875 - val_accuracy: 0.8957\n",
      "Epoch 19/100\n",
      "219/219 [==============================] - 15s 69ms/step - loss: 0.1685 - accuracy: 0.9420 - val_loss: 0.4216 - val_accuracy: 0.8791\n",
      "Epoch 20/100\n",
      "219/219 [==============================] - 15s 71ms/step - loss: 0.1493 - accuracy: 0.9474 - val_loss: 0.3793 - val_accuracy: 0.8980\n",
      "Epoch 21/100\n",
      "219/219 [==============================] - 15s 70ms/step - loss: 0.1358 - accuracy: 0.9531 - val_loss: 0.3760 - val_accuracy: 0.9037\n",
      "Epoch 22/100\n",
      "219/219 [==============================] - 15s 68ms/step - loss: 0.1605 - accuracy: 0.9497 - val_loss: 0.3325 - val_accuracy: 0.9077\n",
      "Epoch 23/100\n",
      "219/219 [==============================] - 15s 68ms/step - loss: 0.1261 - accuracy: 0.9577 - val_loss: 0.4475 - val_accuracy: 0.8905\n",
      "Epoch 24/100\n",
      "219/219 [==============================] - 15s 69ms/step - loss: 0.1137 - accuracy: 0.9580 - val_loss: 0.3909 - val_accuracy: 0.9054\n",
      "Epoch 25/100\n",
      "219/219 [==============================] - 15s 70ms/step - loss: 0.1390 - accuracy: 0.9556 - val_loss: 0.3620 - val_accuracy: 0.9095\n",
      "Epoch 26/100\n",
      "219/219 [==============================] - 15s 69ms/step - loss: 0.1214 - accuracy: 0.9605 - val_loss: 0.3732 - val_accuracy: 0.9043\n",
      "Epoch 27/100\n",
      "219/219 [==============================] - 15s 69ms/step - loss: 0.1015 - accuracy: 0.9649 - val_loss: 0.3604 - val_accuracy: 0.9169\n",
      "Epoch 28/100\n",
      "219/219 [==============================] - 15s 69ms/step - loss: 0.1034 - accuracy: 0.9643 - val_loss: 0.3720 - val_accuracy: 0.9169\n",
      "Epoch 29/100\n",
      "219/219 [==============================] - 15s 69ms/step - loss: 0.1185 - accuracy: 0.9594 - val_loss: 0.3429 - val_accuracy: 0.9123\n",
      "Epoch 30/100\n",
      "219/219 [==============================] - 15s 70ms/step - loss: 0.1019 - accuracy: 0.9648 - val_loss: 0.3584 - val_accuracy: 0.9095\n",
      "Epoch 31/100\n",
      "219/219 [==============================] - 15s 69ms/step - loss: 0.1048 - accuracy: 0.9630 - val_loss: 0.3188 - val_accuracy: 0.9186\n",
      "Epoch 32/100\n",
      "219/219 [==============================] - 15s 70ms/step - loss: 0.1158 - accuracy: 0.9649 - val_loss: 0.3211 - val_accuracy: 0.9158\n",
      "Epoch 33/100\n",
      "219/219 [==============================] - 16s 72ms/step - loss: 0.0960 - accuracy: 0.9673 - val_loss: 0.3852 - val_accuracy: 0.9083\n",
      "Epoch 34/100\n",
      "219/219 [==============================] - 15s 69ms/step - loss: 0.0954 - accuracy: 0.9696 - val_loss: 0.3199 - val_accuracy: 0.9198\n",
      "Epoch 35/100\n",
      "219/219 [==============================] - 15s 69ms/step - loss: 0.0828 - accuracy: 0.9728 - val_loss: 0.3288 - val_accuracy: 0.9244\n",
      "Epoch 36/100\n",
      "219/219 [==============================] - 15s 69ms/step - loss: 0.1060 - accuracy: 0.9663 - val_loss: 0.4492 - val_accuracy: 0.9020\n",
      "Epoch 37/100\n",
      "219/219 [==============================] - 15s 70ms/step - loss: 0.1087 - accuracy: 0.9652 - val_loss: 0.3190 - val_accuracy: 0.9238\n",
      "Epoch 38/100\n",
      "219/219 [==============================] - 15s 69ms/step - loss: 0.0636 - accuracy: 0.9784 - val_loss: 0.3054 - val_accuracy: 0.9215\n",
      "Epoch 39/100\n",
      "219/219 [==============================] - 15s 69ms/step - loss: 0.0719 - accuracy: 0.9769 - val_loss: 0.4489 - val_accuracy: 0.9037\n",
      "Epoch 40/100\n",
      "219/219 [==============================] - 15s 69ms/step - loss: 0.0963 - accuracy: 0.9672 - val_loss: 0.4722 - val_accuracy: 0.9003\n",
      "Epoch 41/100\n",
      "219/219 [==============================] - 15s 69ms/step - loss: 0.1053 - accuracy: 0.9656 - val_loss: 0.3138 - val_accuracy: 0.9221\n",
      "Epoch 42/100\n",
      "219/219 [==============================] - 15s 70ms/step - loss: 0.0706 - accuracy: 0.9749 - val_loss: 0.2807 - val_accuracy: 0.9295\n",
      "Epoch 43/100\n",
      "219/219 [==============================] - 16s 71ms/step - loss: 0.0670 - accuracy: 0.9771 - val_loss: 0.3044 - val_accuracy: 0.9278\n",
      "Epoch 44/100\n",
      "219/219 [==============================] - 16s 72ms/step - loss: 0.0759 - accuracy: 0.9716 - val_loss: 0.4276 - val_accuracy: 0.9077\n",
      "Epoch 45/100\n",
      "219/219 [==============================] - 16s 73ms/step - loss: 0.0695 - accuracy: 0.9776 - val_loss: 0.3698 - val_accuracy: 0.9221\n",
      "Epoch 46/100\n",
      "219/219 [==============================] - 16s 73ms/step - loss: 0.0789 - accuracy: 0.9731 - val_loss: 0.4185 - val_accuracy: 0.9146\n",
      "Epoch 47/100\n",
      "219/219 [==============================] - 16s 73ms/step - loss: 0.0806 - accuracy: 0.9752 - val_loss: 0.4045 - val_accuracy: 0.9089\n",
      "Epoch 48/100\n",
      "219/219 [==============================] - 16s 71ms/step - loss: 0.0716 - accuracy: 0.9758 - val_loss: 0.3442 - val_accuracy: 0.9226\n",
      "Epoch 49/100\n",
      "219/219 [==============================] - 15s 69ms/step - loss: 0.0600 - accuracy: 0.9807 - val_loss: 0.3002 - val_accuracy: 0.9318\n",
      "Epoch 50/100\n",
      "219/219 [==============================] - 15s 70ms/step - loss: 0.0684 - accuracy: 0.9779 - val_loss: 0.3481 - val_accuracy: 0.9347\n",
      "Epoch 51/100\n",
      "219/219 [==============================] - 15s 70ms/step - loss: 0.0659 - accuracy: 0.9792 - val_loss: 0.3396 - val_accuracy: 0.9261\n",
      "Epoch 52/100\n",
      "219/219 [==============================] - 15s 70ms/step - loss: 0.0584 - accuracy: 0.9795 - val_loss: 0.4142 - val_accuracy: 0.9140\n",
      "Epoch 53/100\n",
      "219/219 [==============================] - 16s 72ms/step - loss: 0.0904 - accuracy: 0.9731 - val_loss: 0.2972 - val_accuracy: 0.9352\n",
      "Epoch 54/100\n",
      "219/219 [==============================] - 16s 74ms/step - loss: 0.0601 - accuracy: 0.9797 - val_loss: 0.3334 - val_accuracy: 0.9289\n",
      "Epoch 55/100\n",
      "219/219 [==============================] - 16s 72ms/step - loss: 0.0636 - accuracy: 0.9792 - val_loss: 0.3352 - val_accuracy: 0.9335\n",
      "Epoch 56/100\n",
      "219/219 [==============================] - 16s 71ms/step - loss: 0.0668 - accuracy: 0.9785 - val_loss: 0.5548 - val_accuracy: 0.9032\n",
      "Epoch 57/100\n",
      "219/219 [==============================] - 15s 71ms/step - loss: 0.0823 - accuracy: 0.9765 - val_loss: 0.3007 - val_accuracy: 0.9318\n",
      "Epoch 58/100\n",
      "219/219 [==============================] - 16s 74ms/step - loss: 0.0395 - accuracy: 0.9841 - val_loss: 0.3464 - val_accuracy: 0.9318\n",
      "Epoch 59/100\n",
      "219/219 [==============================] - 16s 72ms/step - loss: 0.0623 - accuracy: 0.9804 - val_loss: 0.3461 - val_accuracy: 0.9221\n",
      "Epoch 60/100\n",
      "219/219 [==============================] - 16s 73ms/step - loss: 0.0537 - accuracy: 0.9821 - val_loss: 0.3717 - val_accuracy: 0.9312\n",
      "Epoch 61/100\n",
      "219/219 [==============================] - 16s 72ms/step - loss: 0.0789 - accuracy: 0.9731 - val_loss: 0.4037 - val_accuracy: 0.9198\n",
      "Epoch 62/100\n",
      "219/219 [==============================] - 16s 72ms/step - loss: 0.0803 - accuracy: 0.9756 - val_loss: 0.3634 - val_accuracy: 0.9244\n",
      "Epoch 63/100\n",
      "219/219 [==============================] - 15s 70ms/step - loss: 0.0561 - accuracy: 0.9832 - val_loss: 0.4170 - val_accuracy: 0.9140\n",
      "Epoch 64/100\n",
      "219/219 [==============================] - 15s 71ms/step - loss: 0.0401 - accuracy: 0.9875 - val_loss: 0.3409 - val_accuracy: 0.9295\n",
      "Epoch 65/100\n",
      "219/219 [==============================] - 16s 71ms/step - loss: 0.0499 - accuracy: 0.9831 - val_loss: 0.4471 - val_accuracy: 0.9117\n",
      "Epoch 66/100\n",
      "219/219 [==============================] - 16s 72ms/step - loss: 0.0547 - accuracy: 0.9828 - val_loss: 0.4318 - val_accuracy: 0.9215\n",
      "Epoch 67/100\n",
      "219/219 [==============================] - 16s 71ms/step - loss: 0.0863 - accuracy: 0.9749 - val_loss: 0.3987 - val_accuracy: 0.9226\n",
      "Epoch 68/100\n",
      "219/219 [==============================] - 15s 70ms/step - loss: 0.0729 - accuracy: 0.9776 - val_loss: 0.4789 - val_accuracy: 0.9135\n",
      "Epoch 69/100\n",
      "219/219 [==============================] - 16s 71ms/step - loss: 0.0874 - accuracy: 0.9756 - val_loss: 0.3439 - val_accuracy: 0.9198\n",
      "Epoch 70/100\n",
      "219/219 [==============================] - 16s 71ms/step - loss: 0.0505 - accuracy: 0.9824 - val_loss: 0.3700 - val_accuracy: 0.9215\n",
      "Epoch 71/100\n",
      "219/219 [==============================] - 16s 71ms/step - loss: 0.0357 - accuracy: 0.9884 - val_loss: 0.4038 - val_accuracy: 0.9318\n",
      "Epoch 72/100\n",
      "219/219 [==============================] - 16s 73ms/step - loss: 0.0499 - accuracy: 0.9867 - val_loss: 0.3961 - val_accuracy: 0.9186\n",
      "Epoch 73/100\n",
      "219/219 [==============================] - 16s 72ms/step - loss: 0.0855 - accuracy: 0.9752 - val_loss: 0.3344 - val_accuracy: 0.9261\n",
      "Epoch 74/100\n",
      "219/219 [==============================] - 16s 71ms/step - loss: 0.0470 - accuracy: 0.9845 - val_loss: 0.3412 - val_accuracy: 0.9255\n",
      "Epoch 75/100\n",
      "219/219 [==============================] - 16s 71ms/step - loss: 0.0241 - accuracy: 0.9907 - val_loss: 0.3498 - val_accuracy: 0.9341\n",
      "Epoch 76/100\n",
      "219/219 [==============================] - 16s 72ms/step - loss: 0.1076 - accuracy: 0.9738 - val_loss: 0.3233 - val_accuracy: 0.9278\n",
      "Epoch 77/100\n",
      "219/219 [==============================] - 16s 72ms/step - loss: 0.0657 - accuracy: 0.9792 - val_loss: 0.3699 - val_accuracy: 0.9192\n",
      "Epoch 78/100\n",
      "219/219 [==============================] - 16s 72ms/step - loss: 0.0553 - accuracy: 0.9812 - val_loss: 0.3408 - val_accuracy: 0.9341\n",
      "Epoch 79/100\n",
      "219/219 [==============================] - 16s 74ms/step - loss: 0.0821 - accuracy: 0.9772 - val_loss: 0.3830 - val_accuracy: 0.9209\n",
      "Epoch 80/100\n",
      "219/219 [==============================] - 16s 72ms/step - loss: 0.0362 - accuracy: 0.9881 - val_loss: 0.3081 - val_accuracy: 0.9324\n",
      "Epoch 81/100\n",
      "219/219 [==============================] - 16s 73ms/step - loss: 0.0322 - accuracy: 0.9880 - val_loss: 0.3790 - val_accuracy: 0.9347\n",
      "Epoch 82/100\n",
      "219/219 [==============================] - 16s 72ms/step - loss: 0.0596 - accuracy: 0.9817 - val_loss: 0.3619 - val_accuracy: 0.9244\n",
      "Epoch 83/100\n",
      "219/219 [==============================] - 16s 73ms/step - loss: 0.0475 - accuracy: 0.9844 - val_loss: 0.4135 - val_accuracy: 0.9244\n",
      "Epoch 84/100\n",
      "219/219 [==============================] - 16s 74ms/step - loss: 0.0535 - accuracy: 0.9828 - val_loss: 0.3672 - val_accuracy: 0.9295\n",
      "Epoch 85/100\n",
      "219/219 [==============================] - 17s 77ms/step - loss: 0.0434 - accuracy: 0.9860 - val_loss: 0.2804 - val_accuracy: 0.9387\n",
      "Epoch 86/100\n",
      "219/219 [==============================] - 16s 74ms/step - loss: 0.0595 - accuracy: 0.9815 - val_loss: 0.4769 - val_accuracy: 0.9146\n",
      "Epoch 87/100\n",
      "219/219 [==============================] - 16s 71ms/step - loss: 0.0570 - accuracy: 0.9841 - val_loss: 0.3882 - val_accuracy: 0.9278\n",
      "Epoch 88/100\n",
      "219/219 [==============================] - 16s 71ms/step - loss: 0.0531 - accuracy: 0.9837 - val_loss: 0.3095 - val_accuracy: 0.9335\n",
      "Epoch 89/100\n",
      "219/219 [==============================] - 16s 71ms/step - loss: 0.0378 - accuracy: 0.9872 - val_loss: 0.3559 - val_accuracy: 0.9238\n",
      "Epoch 90/100\n",
      "219/219 [==============================] - 16s 72ms/step - loss: 0.0493 - accuracy: 0.9845 - val_loss: 0.3524 - val_accuracy: 0.9255\n",
      "Epoch 91/100\n",
      "219/219 [==============================] - 16s 72ms/step - loss: 0.0813 - accuracy: 0.9775 - val_loss: 0.4346 - val_accuracy: 0.9169\n",
      "Epoch 92/100\n",
      "219/219 [==============================] - 16s 73ms/step - loss: 0.0625 - accuracy: 0.9805 - val_loss: 0.3563 - val_accuracy: 0.9289\n",
      "Epoch 93/100\n",
      "219/219 [==============================] - 16s 72ms/step - loss: 0.0401 - accuracy: 0.9881 - val_loss: 0.3663 - val_accuracy: 0.9284\n",
      "Epoch 94/100\n",
      "219/219 [==============================] - 16s 74ms/step - loss: 0.0360 - accuracy: 0.9881 - val_loss: 0.3372 - val_accuracy: 0.9387\n",
      "Epoch 95/100\n",
      "219/219 [==============================] - 16s 73ms/step - loss: 0.0445 - accuracy: 0.9860 - val_loss: 0.3305 - val_accuracy: 0.9433\n",
      "Epoch 96/100\n",
      "219/219 [==============================] - 16s 72ms/step - loss: 0.0398 - accuracy: 0.9883 - val_loss: 0.3926 - val_accuracy: 0.9266\n",
      "Epoch 97/100\n",
      "219/219 [==============================] - 16s 72ms/step - loss: 0.0431 - accuracy: 0.9885 - val_loss: 0.3816 - val_accuracy: 0.9341\n",
      "Epoch 98/100\n",
      "219/219 [==============================] - 16s 73ms/step - loss: 0.0431 - accuracy: 0.9852 - val_loss: 0.4582 - val_accuracy: 0.9209\n",
      "Epoch 99/100\n",
      "219/219 [==============================] - 16s 74ms/step - loss: 0.0420 - accuracy: 0.9867 - val_loss: 0.5035 - val_accuracy: 0.9284\n",
      "Epoch 100/100\n",
      "219/219 [==============================] - 16s 74ms/step - loss: 0.0847 - accuracy: 0.9784 - val_loss: 0.3325 - val_accuracy: 0.9330\n"
     ]
    }
   ],
   "source": [
    "\n",
    "# fit model \n",
    "\n",
    "model_3_ = model_3.fit(X_train, y_train, epochs=100, validation_data=(X_test, y_test), verbose=1)\n"
   ]
  },
  {
   "cell_type": "code",
   "execution_count": 549,
   "metadata": {},
   "outputs": [
    {
     "name": "stdout",
     "output_type": "stream",
     "text": [
      "Training Accuracy:  0.9928356409072876\n",
      "Testing Accuracy:  0.9329512715339661\n"
     ]
    }
   ],
   "source": [
    "# Evaluating the model on the training and testing set\n",
    "score = model_3.evaluate(X_train, y_train, verbose=0)\n",
    "print(\"Training Accuracy: \", score[1])\n",
    "\n",
    "score = model_3.evaluate(X_test, y_test, verbose=0)\n",
    "print(\"Testing Accuracy: \", score[1])"
   ]
  },
  {
   "cell_type": "code",
   "execution_count": 551,
   "metadata": {},
   "outputs": [
    {
     "data": {
      "image/png": "[encoded data removed]",
      "text/plain": "<Figure size 1080x360 with 2 Axes>"
     },
     "metadata": {
      "needs_background": "light"
     },
     "output_type": "display_data"
    }
   ],
   "source": [
    "history_dict=model_3_.history\n",
    "loss_values=history_dict['loss']\n",
    "acc_values=history_dict['accuracy']\n",
    "val_loss_values = history_dict['val_loss']\n",
    "val_acc_values=history_dict['val_accuracy']\n",
    "epochs=range(1,101)\n",
    "fig,(ax1,ax2)=plt.subplots(1,2,figsize=(15,5))\n",
    "ax1.plot(epochs,loss_values,'bo',label='Training Loss')\n",
    "ax1.plot(epochs,val_loss_values,'orange', label='Validation Loss')\n",
    "ax1.set_title('Training and validation loss')\n",
    "ax1.set_xlabel('Epochs')\n",
    "ax1.set_ylabel('Loss')\n",
    "ax1.legend()\n",
    "ax2.plot(epochs,acc_values,'bo', label='Training accuracy')\n",
    "ax2.plot(epochs,val_acc_values,'orange',label='Validation accuracy')\n",
    "ax2.set_title('Training and validation accuracy')\n",
    "ax2.set_xlabel('Epochs')\n",
    "ax2.set_ylabel('Accuracy')\n",
    "ax2.legend()\n",
    "plt.show()"
   ]
  },
  {
   "cell_type": "markdown",
   "metadata": {},
   "source": [
    "We get basically the same evaluation scores as the previous model, meaning our added features didn't contibute anything. MFCC extraction is a *very* popular method for audio analysis and clearly for a reason. It is robust in the amount of information it extracts, and performs very well on it's own in classifying audio."
   ]
  }
 ],
 "metadata": {
  "kernelspec": {
   "display_name": "Python 3.8.8 64-bit ('base': conda)",
   "name": "python388jvsc74a57bd0dca0ade3e726a953b501b15e8e990130d2b7799f14cfd9f4271676035ebe5511"
  },
  "language_info": {
   "codemirror_mode": {
    "name": "ipython",
    "version": 3
   },
   "file_extension": ".py",
   "mimetype": "text/x-python",
   "name": "python",
   "nbconvert_exporter": "python",
   "pygments_lexer": "ipython3",
   "version": "3.8.8"
  },
  "orig_nbformat": 3
 },
 "nbformat": 4,
 "nbformat_minor": 4
}