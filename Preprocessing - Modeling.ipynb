{
 "cells": [
  {
   "cell_type": "markdown",
   "metadata": {},
   "source": [
    "# Preprocessing & Modeling "
   ]
  },
  {
   "cell_type": "code",
   "execution_count": 1,
   "metadata": {},
   "outputs": [],
   "source": [
    "# import packages\n",
    "\n",
    "import pandas as pd\n",
    "import numpy as np\n",
    "import matplotlib.pyplot as plt\n",
    "%matplotlib inline\n",
    "import os\n",
    "\n",
    "import librosa as lr\n",
    "import librosa.display\n",
    "\n",
    "import wave\n",
    "from scipy.io import wavfile\n",
    "import IPython.display as idp \n",
    "\n",
    "import warnings\n",
    "warnings.filterwarnings(\"ignore\")"
   ]
  },
  {
   "cell_type": "code",
   "execution_count": 487,
   "metadata": {},
   "outputs": [],
   "source": [
    "# load dataframe\n",
    "\n",
    "audio_df = pd.read_pickle('/Users/spence/Documents/GitHub/Urban Sounds Classifier/UrbanSound8K/feature extraction /audio_df.pkl')\n",
    "audio_df_xtra = pd.read_pickle('/Users/spence/Documents/GitHub/Urban Sounds Classifier/UrbanSound8K/feature extraction /audio_df_xtra.pkl')"
   ]
  },
  {
   "cell_type": "code",
   "execution_count": 448,
   "metadata": {},
   "outputs": [
    {
     "data": {
      "text/plain": "Index(['slice_file_name', 'fsID', 'start', 'end', 'salience', 'fold',\n       'classID', 'class', 'num_channels', 'sample_rate', 'bit_depth',\n       'sound_len', 'mfccs'],\n      dtype='object')"
     },
     "execution_count": 448,
     "metadata": {},
     "output_type": "execute_result"
    }
   ],
   "source": [
    "# examine columns \n",
    "\n",
    "audio_df.columns "
   ]
  },
  {
   "cell_type": "code",
   "execution_count": 488,
   "metadata": {},
   "outputs": [
    {
     "data": {
      "text/plain": "Index(['slice_file_name', 'fsID', 'start', 'end', 'salience', 'fold',\n       'classID', 'class', 'num_channels', 'sample_rate', 'bit_depth',\n       'sound_len', 'mfccs', 'chroma', 'features', 'zero_cr'],\n      dtype='object')"
     },
     "execution_count": 488,
     "metadata": {},
     "output_type": "execute_result"
    }
   ],
   "source": [
    "# examine columns \n",
    "\n",
    "audio_df_xtra.columns "
   ]
  },
  {
   "cell_type": "markdown",
   "metadata": {},
   "source": [
    "## Preprocessing"
   ]
  },
  {
   "cell_type": "code",
   "execution_count": 202,
   "metadata": {},
   "outputs": [],
   "source": [
    "# import packages\n",
    "\n",
    "from sklearn.model_selection import train_test_split \n",
    "from sklearn.preprocessing import LabelEncoder, StandardScaler\n",
    "from tensorflow.keras.utils import to_categorical "
   ]
  },
  {
   "cell_type": "code",
   "execution_count": 424,
   "metadata": {},
   "outputs": [],
   "source": [
    "# create seperate objects for independent and dependent variables \n",
    "X = np.array(audio_df['mfccs'].tolist())\n",
    "y = np.array(audio_df['class'].tolist())\n",
    "\n",
    "# label encode target variables \n",
    "le = LabelEncoder()\n",
    "y_ = to_categorical(le.fit_transform(y))\n",
    "\n",
    "# train/test split data\n",
    "X_train, X_test, y_train, y_test = train_test_split(X, y_, test_size=0.2, random_state=22)"
   ]
  },
  {
   "cell_type": "markdown",
   "metadata": {},
   "source": [
    "## Modeling "
   ]
  },
  {
   "cell_type": "code",
   "execution_count": 235,
   "metadata": {},
   "outputs": [],
   "source": [
    "# import packages \n",
    "\n",
    "from keras.models import Sequential\n",
    "from keras.layers import Dense, Dropout, Activation, Flatten\n",
    "from keras.layers import Convolution2D, Conv2D, Conv1D, MaxPooling2D, GlobalAveragePooling2D\n",
    "from sklearn import metrics "
   ]
  },
  {
   "cell_type": "markdown",
   "metadata": {},
   "source": [
    "We are going to implement a Convolutional Neural Network to classify our audio. CNN's are typically used in image recognition. Since we have compiled an image based on the frequency composition of our audio, this approach is appropriate. \n",
    "\n",
    "First we need to handle the shape of our data. For CNN's it's important that the input shapes are consistent, so the model knows how to scan the image by way of its kernal. We will reshape the audio-image to fit into a 2-Dimensional CNN. "
   ]
  },
  {
   "cell_type": "code",
   "execution_count": 425,
   "metadata": {},
   "outputs": [],
   "source": [
    "# reshape the data to fit into a 2-Dimensional CNN; 40, rows, 174 columns, 1 channel(mono)\n",
    "X_train = X_train.reshape(X_train.shape[0], 40, 174, 1)\n",
    "X_test = X_test.reshape(X_test.shape[0], 40, 174, 1)\n",
    "\n",
    "# create variable for the count of classes for our model's output layer; where predictions get mapped to the classes\n",
    "class_count = y_.shape[1]\n",
    "\n",
    "# variable for the shape of our independent variable data \n",
    "shape = (40, 174, 1)"
   ]
  },
  {
   "cell_type": "markdown",
   "metadata": {},
   "source": [
    "_____________"
   ]
  },
  {
   "cell_type": "markdown",
   "metadata": {},
   "source": [
    "## Model 1"
   ]
  },
  {
   "cell_type": "code",
   "execution_count": 400,
   "metadata": {},
   "outputs": [],
   "source": [
    "# model architecture \n",
    "\n",
    "# instantiate model \n",
    "CNNmodel = Sequential()\n",
    "\n",
    "# construct layers \n",
    "CNNmodel.add(Conv2D(16, 2, activation='relu', input_shape=shape ))\n",
    "CNNmodel.add(MaxPooling2D((2,2)))\n",
    "CNNmodel.add(Dropout(0.2))\n",
    "\n",
    "CNNmodel.add(Conv2D(32, 2, activation='relu'))\n",
    "CNNmodel.add(MaxPooling2D((2,2)))\n",
    "CNNmodel.add(Dropout(0.2))\n",
    "\n",
    "CNNmodel.add(Conv2D(64, 2, activation='relu'))\n",
    "CNNmodel.add(Flatten())\n",
    "\n",
    "CNNmodel.add(Dense(128, activation='relu'))\n",
    "CNNmodel.add(Dropout(0.2))\n",
    "\n",
    "CNNmodel.add(Dense(64, activation='relu'))\n",
    "\n",
    "CNNmodel.add(Dense(num_labels, activation='softmax'))\n"
   ]
  },
  {
   "cell_type": "code",
   "execution_count": 401,
   "metadata": {},
   "outputs": [
    {
     "name": "stdout",
     "output_type": "stream",
     "text": [
      "Epoch 1/20\n",
      "219/219 [==============================] - 13s 55ms/step - loss: 2.9489 - accuracy: 0.3373 - val_loss: 1.5356 - val_accuracy: 0.4550\n",
      "Epoch 2/20\n",
      "219/219 [==============================] - 12s 53ms/step - loss: 1.2467 - accuracy: 0.5683 - val_loss: 1.2031 - val_accuracy: 0.6292\n",
      "Epoch 3/20\n",
      "219/219 [==============================] - 11s 52ms/step - loss: 0.9616 - accuracy: 0.6651 - val_loss: 0.9787 - val_accuracy: 0.6911\n",
      "Epoch 4/20\n",
      "219/219 [==============================] - 11s 52ms/step - loss: 0.8399 - accuracy: 0.7100 - val_loss: 0.8626 - val_accuracy: 0.7232\n",
      "Epoch 5/20\n",
      "219/219 [==============================] - 12s 53ms/step - loss: 0.7021 - accuracy: 0.7563 - val_loss: 0.7519 - val_accuracy: 0.7616\n",
      "Epoch 6/20\n",
      "219/219 [==============================] - 11s 51ms/step - loss: 0.6204 - accuracy: 0.7869 - val_loss: 0.8024 - val_accuracy: 0.7427\n",
      "Epoch 7/20\n",
      "219/219 [==============================] - 11s 52ms/step - loss: 0.5007 - accuracy: 0.8302 - val_loss: 0.6643 - val_accuracy: 0.7777\n",
      "Epoch 8/20\n",
      "219/219 [==============================] - 11s 52ms/step - loss: 0.4553 - accuracy: 0.8438 - val_loss: 0.7272 - val_accuracy: 0.8057\n",
      "Epoch 9/20\n",
      "219/219 [==============================] - 11s 52ms/step - loss: 0.3922 - accuracy: 0.8606 - val_loss: 0.7218 - val_accuracy: 0.7948\n",
      "Epoch 10/20\n",
      "219/219 [==============================] - 12s 53ms/step - loss: 0.3692 - accuracy: 0.8752 - val_loss: 0.8068 - val_accuracy: 0.7748\n",
      "Epoch 11/20\n",
      "219/219 [==============================] - 11s 52ms/step - loss: 0.3127 - accuracy: 0.8940 - val_loss: 0.6016 - val_accuracy: 0.8241\n",
      "Epoch 12/20\n",
      "219/219 [==============================] - 11s 52ms/step - loss: 0.2816 - accuracy: 0.9059 - val_loss: 0.7422 - val_accuracy: 0.8126\n",
      "Epoch 13/20\n",
      "219/219 [==============================] - 11s 52ms/step - loss: 0.2632 - accuracy: 0.9126 - val_loss: 0.6181 - val_accuracy: 0.8304\n",
      "Epoch 14/20\n",
      "219/219 [==============================] - 12s 53ms/step - loss: 0.2240 - accuracy: 0.9233 - val_loss: 0.7008 - val_accuracy: 0.8195\n",
      "Epoch 15/20\n",
      "219/219 [==============================] - 12s 53ms/step - loss: 0.2171 - accuracy: 0.9284 - val_loss: 0.6294 - val_accuracy: 0.8304\n",
      "Epoch 16/20\n",
      "219/219 [==============================] - 12s 54ms/step - loss: 0.2258 - accuracy: 0.9210 - val_loss: 0.7138 - val_accuracy: 0.8160\n",
      "Epoch 17/20\n",
      "219/219 [==============================] - 11s 52ms/step - loss: 0.1971 - accuracy: 0.9328 - val_loss: 0.7218 - val_accuracy: 0.8287\n",
      "Epoch 18/20\n",
      "219/219 [==============================] - 11s 52ms/step - loss: 0.1869 - accuracy: 0.9361 - val_loss: 0.6898 - val_accuracy: 0.8390\n",
      "Epoch 19/20\n",
      "219/219 [==============================] - 11s 52ms/step - loss: 0.1358 - accuracy: 0.9559 - val_loss: 0.8576 - val_accuracy: 0.8206\n",
      "Epoch 20/20\n",
      "219/219 [==============================] - 12s 54ms/step - loss: 0.1501 - accuracy: 0.9494 - val_loss: 0.6606 - val_accuracy: 0.8487\n"
     ]
    }
   ],
   "source": [
    "# compile & fit model \n",
    "\n",
    "CNNmodel.compile(optimizer='adam', loss='categorical_crossentropy', metrics=['accuracy'])\n",
    "\n",
    "fitted_model = CNNmodel.fit(X_train, y_train, epochs=20, validation_data=(X_test, y_test), verbose=1)"
   ]
  },
  {
   "cell_type": "code",
   "execution_count": 402,
   "metadata": {},
   "outputs": [
    {
     "name": "stdout",
     "output_type": "stream",
     "text": [
      "Training Accuracy:  0.9945551156997681\n",
      "Testing Accuracy:  0.8487105965614319\n"
     ]
    }
   ],
   "source": [
    "# evaluate model on test set \n",
    "\n",
    "score = CNNmodel.evaluate(X_train, y_train, verbose=0)\n",
    "print(\"Training Accuracy: \", score[1])\n",
    "\n",
    "score = CNNmodel.evaluate(X_test, y_test, verbose=0)\n",
    "print(\"Testing Accuracy: \", score[1])"
   ]
  },
  {
   "cell_type": "markdown",
   "metadata": {},
   "source": [
    "Because of the gap between the training accuracy and the testing accuracy (~15%), we can deduce that our model is a bit overfitted. It has learned the training data very well, but is not generalizable to new, unseen data. "
   ]
  },
  {
   "cell_type": "code",
   "execution_count": 403,
   "metadata": {},
   "outputs": [
    {
     "data": {
      "image/png": "[encoded data removed]",
      "text/plain": "<Figure size 1080x360 with 2 Axes>"
     },
     "metadata": {
      "needs_background": "light"
     },
     "output_type": "display_data"
    }
   ],
   "source": [
    "history_dict=fitted_model.history\n",
    "loss_values=history_dict['loss']\n",
    "acc_values=history_dict['accuracy']\n",
    "val_loss_values = history_dict['val_loss']\n",
    "val_acc_values=history_dict['val_accuracy']\n",
    "epochs=range(1,21)\n",
    "fig,(ax1,ax2)=plt.subplots(1,2,figsize=(15,5))\n",
    "ax1.plot(epochs,loss_values,'bo',label='Training Loss')\n",
    "ax1.plot(epochs,val_loss_values,'orange', label='Validation Loss')\n",
    "ax1.set_title('Training and validation loss')\n",
    "ax1.set_xlabel('Epochs')\n",
    "ax1.set_ylabel('Loss')\n",
    "ax1.legend()\n",
    "ax2.plot(epochs,acc_values,'bo', label='Training accuracy')\n",
    "ax2.plot(epochs,val_acc_values,'orange',label='Validation accuracy')\n",
    "ax2.set_title('Training and validation accuracy')\n",
    "ax2.set_xlabel('Epochs')\n",
    "ax2.set_ylabel('Accuracy')\n",
    "ax2.legend()\n",
    "plt.show()"
   ]
  },
  {
   "cell_type": "markdown",
   "metadata": {},
   "source": [
    "We can see in the charts above that the model's validation accuracy doesn't improve much after 11 epochs. It's around that interation count that it starts to overfit. "
   ]
  },
  {
   "cell_type": "markdown",
   "metadata": {},
   "source": [
    "--------"
   ]
  },
  {
   "cell_type": "markdown",
   "metadata": {},
   "source": [
    "## Model 2\n",
    "\n",
    "Here we will try a redesign of our model architecture. We will avoid flattening the input and adding a 'Dense' layer this time around. We will only add a Dense layer at the end when it's necessary for mapping to the classes. "
   ]
  },
  {
   "cell_type": "code",
   "execution_count": 426,
   "metadata": {},
   "outputs": [],
   "source": [
    "# model architecture \n",
    "\n",
    "# instantiate model\n",
    "model = Sequential()\n",
    "\n",
    "# construct layers \n",
    "model.add(Conv2D(filters=16, kernel_size=2, activation='relu', input_shape=shape))\n",
    "model.add(MaxPooling2D(pool_size=2))\n",
    "model.add(Dropout(0.2))\n",
    "\n",
    "model.add(Conv2D(filters=32, kernel_size=2, activation='relu'))\n",
    "model.add(MaxPooling2D(pool_size=2))\n",
    "model.add(Dropout(0.2))\n",
    "\n",
    "model.add(Conv2D(filters=64, kernel_size=2, activation='relu'))\n",
    "model.add(MaxPooling2D(pool_size=2))\n",
    "model.add(Dropout(0.2))\n",
    "\n",
    "model.add(Conv2D(filters=128, kernel_size=2, activation='relu'))\n",
    "model.add(MaxPooling2D(pool_size=2))\n",
    "model.add(Dropout(0.2))\n",
    "\n",
    "model.add(GlobalAveragePooling2D())\n",
    "\n",
    "model.add(Dense(num_labels, activation='softmax')) "
   ]
  },
  {
   "cell_type": "code",
   "execution_count": 342,
   "metadata": {},
   "outputs": [
    {
     "name": "stdout",
     "output_type": "stream",
     "text": [
      "Epoch 1/100\n",
      "219/219 [==============================] - 12s 52ms/step - loss: 2.0865 - accuracy: 0.3429 - val_loss: 1.4727 - val_accuracy: 0.5421\n",
      "Epoch 2/100\n",
      "219/219 [==============================] - 11s 51ms/step - loss: 1.2771 - accuracy: 0.5499 - val_loss: 1.2227 - val_accuracy: 0.6069\n",
      "Epoch 3/100\n",
      "219/219 [==============================] - 11s 52ms/step - loss: 1.1080 - accuracy: 0.6090 - val_loss: 1.1529 - val_accuracy: 0.6132\n",
      "Epoch 4/100\n",
      "219/219 [==============================] - 11s 51ms/step - loss: 0.9718 - accuracy: 0.6597 - val_loss: 1.0126 - val_accuracy: 0.6596\n",
      "Epoch 5/100\n",
      "219/219 [==============================] - 11s 50ms/step - loss: 0.8690 - accuracy: 0.6939 - val_loss: 0.9062 - val_accuracy: 0.7060\n",
      "Epoch 6/100\n",
      "219/219 [==============================] - 11s 50ms/step - loss: 0.7762 - accuracy: 0.7341 - val_loss: 0.8908 - val_accuracy: 0.7198\n",
      "Epoch 7/100\n",
      "219/219 [==============================] - 11s 50ms/step - loss: 0.7111 - accuracy: 0.7606 - val_loss: 0.7880 - val_accuracy: 0.7473\n",
      "Epoch 8/100\n",
      "219/219 [==============================] - 11s 49ms/step - loss: 0.6256 - accuracy: 0.7844 - val_loss: 0.7892 - val_accuracy: 0.7433\n",
      "Epoch 9/100\n",
      "219/219 [==============================] - 11s 50ms/step - loss: 0.5763 - accuracy: 0.8136 - val_loss: 0.6632 - val_accuracy: 0.7817\n",
      "Epoch 10/100\n",
      "219/219 [==============================] - 11s 48ms/step - loss: 0.5453 - accuracy: 0.8179 - val_loss: 0.6060 - val_accuracy: 0.8149\n",
      "Epoch 11/100\n",
      "219/219 [==============================] - 10s 47ms/step - loss: 0.5236 - accuracy: 0.8187 - val_loss: 0.6348 - val_accuracy: 0.7994\n",
      "Epoch 12/100\n",
      "219/219 [==============================] - 10s 48ms/step - loss: 0.4768 - accuracy: 0.8351 - val_loss: 0.5954 - val_accuracy: 0.8149\n",
      "Epoch 13/100\n",
      "219/219 [==============================] - 10s 48ms/step - loss: 0.4470 - accuracy: 0.8480 - val_loss: 0.5281 - val_accuracy: 0.8447\n",
      "Epoch 14/100\n",
      "219/219 [==============================] - 10s 48ms/step - loss: 0.4363 - accuracy: 0.8474 - val_loss: 0.4769 - val_accuracy: 0.8596\n",
      "Epoch 15/100\n",
      "219/219 [==============================] - 10s 48ms/step - loss: 0.4034 - accuracy: 0.8629 - val_loss: 0.5362 - val_accuracy: 0.8269\n",
      "Epoch 16/100\n",
      "219/219 [==============================] - 10s 48ms/step - loss: 0.3859 - accuracy: 0.8677 - val_loss: 0.4692 - val_accuracy: 0.8516\n",
      "Epoch 17/100\n",
      "219/219 [==============================] - 10s 48ms/step - loss: 0.3688 - accuracy: 0.8733 - val_loss: 0.4054 - val_accuracy: 0.8774\n",
      "Epoch 18/100\n",
      "219/219 [==============================] - 10s 48ms/step - loss: 0.3461 - accuracy: 0.8796 - val_loss: 0.4380 - val_accuracy: 0.8636\n",
      "Epoch 19/100\n",
      "219/219 [==============================] - 11s 49ms/step - loss: 0.3463 - accuracy: 0.8756 - val_loss: 0.4553 - val_accuracy: 0.8590\n",
      "Epoch 20/100\n",
      "219/219 [==============================] - 11s 51ms/step - loss: 0.3302 - accuracy: 0.8915 - val_loss: 0.4519 - val_accuracy: 0.8682\n",
      "Epoch 21/100\n",
      "219/219 [==============================] - 11s 50ms/step - loss: 0.3188 - accuracy: 0.8927 - val_loss: 0.4640 - val_accuracy: 0.8636\n",
      "Epoch 22/100\n",
      "219/219 [==============================] - 11s 51ms/step - loss: 0.2908 - accuracy: 0.9003 - val_loss: 0.4367 - val_accuracy: 0.8676\n",
      "Epoch 23/100\n",
      "219/219 [==============================] - 11s 50ms/step - loss: 0.2822 - accuracy: 0.9037 - val_loss: 0.4111 - val_accuracy: 0.8819\n",
      "Epoch 24/100\n",
      "219/219 [==============================] - 11s 51ms/step - loss: 0.2842 - accuracy: 0.9000 - val_loss: 0.4498 - val_accuracy: 0.8648\n",
      "Epoch 25/100\n",
      "219/219 [==============================] - 11s 49ms/step - loss: 0.2665 - accuracy: 0.9070 - val_loss: 0.3863 - val_accuracy: 0.8842\n",
      "Epoch 26/100\n",
      "219/219 [==============================] - 11s 50ms/step - loss: 0.2739 - accuracy: 0.9049 - val_loss: 0.3930 - val_accuracy: 0.8837\n",
      "Epoch 27/100\n",
      "219/219 [==============================] - 11s 49ms/step - loss: 0.2499 - accuracy: 0.9152 - val_loss: 0.3773 - val_accuracy: 0.8831\n",
      "Epoch 28/100\n",
      "219/219 [==============================] - 11s 49ms/step - loss: 0.2477 - accuracy: 0.9186 - val_loss: 0.3795 - val_accuracy: 0.8888\n",
      "Epoch 29/100\n",
      "219/219 [==============================] - 11s 50ms/step - loss: 0.2236 - accuracy: 0.9229 - val_loss: 0.3318 - val_accuracy: 0.9106\n",
      "Epoch 30/100\n",
      "219/219 [==============================] - 11s 50ms/step - loss: 0.2283 - accuracy: 0.9239 - val_loss: 0.4124 - val_accuracy: 0.8814\n",
      "Epoch 31/100\n",
      "219/219 [==============================] - 11s 50ms/step - loss: 0.2251 - accuracy: 0.9233 - val_loss: 0.3271 - val_accuracy: 0.9089\n",
      "Epoch 32/100\n",
      "219/219 [==============================] - 11s 49ms/step - loss: 0.2085 - accuracy: 0.9279 - val_loss: 0.3527 - val_accuracy: 0.8991\n",
      "Epoch 33/100\n",
      "219/219 [==============================] - 11s 50ms/step - loss: 0.2224 - accuracy: 0.9236 - val_loss: 0.3415 - val_accuracy: 0.9014\n",
      "Epoch 34/100\n",
      "219/219 [==============================] - 11s 49ms/step - loss: 0.2096 - accuracy: 0.9289 - val_loss: 0.3856 - val_accuracy: 0.8923\n",
      "Epoch 35/100\n",
      "219/219 [==============================] - 11s 49ms/step - loss: 0.1983 - accuracy: 0.9325 - val_loss: 0.3461 - val_accuracy: 0.9077\n",
      "Epoch 36/100\n",
      "219/219 [==============================] - 11s 50ms/step - loss: 0.1849 - accuracy: 0.9365 - val_loss: 0.3336 - val_accuracy: 0.9083\n",
      "Epoch 37/100\n",
      "219/219 [==============================] - 11s 49ms/step - loss: 0.1849 - accuracy: 0.9355 - val_loss: 0.3886 - val_accuracy: 0.8917\n",
      "Epoch 38/100\n",
      "219/219 [==============================] - 11s 49ms/step - loss: 0.1769 - accuracy: 0.9395 - val_loss: 0.3737 - val_accuracy: 0.8946\n",
      "Epoch 39/100\n",
      "219/219 [==============================] - 11s 50ms/step - loss: 0.1763 - accuracy: 0.9402 - val_loss: 0.3050 - val_accuracy: 0.9117\n",
      "Epoch 40/100\n",
      "219/219 [==============================] - 11s 49ms/step - loss: 0.1860 - accuracy: 0.9380 - val_loss: 0.2727 - val_accuracy: 0.9221\n",
      "Epoch 41/100\n",
      "219/219 [==============================] - 11s 50ms/step - loss: 0.1645 - accuracy: 0.9418 - val_loss: 0.3719 - val_accuracy: 0.8997\n",
      "Epoch 42/100\n",
      "219/219 [==============================] - 11s 50ms/step - loss: 0.1649 - accuracy: 0.9402 - val_loss: 0.3360 - val_accuracy: 0.9152\n",
      "Epoch 43/100\n",
      "219/219 [==============================] - 11s 49ms/step - loss: 0.1889 - accuracy: 0.9337 - val_loss: 0.3219 - val_accuracy: 0.9135\n",
      "Epoch 44/100\n",
      "219/219 [==============================] - 11s 50ms/step - loss: 0.1534 - accuracy: 0.9488 - val_loss: 0.3176 - val_accuracy: 0.9186\n",
      "Epoch 45/100\n",
      "219/219 [==============================] - 11s 50ms/step - loss: 0.1552 - accuracy: 0.9458 - val_loss: 0.3663 - val_accuracy: 0.9140\n",
      "Epoch 46/100\n",
      "219/219 [==============================] - 11s 49ms/step - loss: 0.1501 - accuracy: 0.9477 - val_loss: 0.3517 - val_accuracy: 0.9037\n",
      "Epoch 47/100\n",
      "219/219 [==============================] - 11s 49ms/step - loss: 0.1464 - accuracy: 0.9510 - val_loss: 0.3136 - val_accuracy: 0.9186\n",
      "Epoch 48/100\n",
      "219/219 [==============================] - 11s 50ms/step - loss: 0.1434 - accuracy: 0.9491 - val_loss: 0.3384 - val_accuracy: 0.9072\n",
      "Epoch 49/100\n",
      "219/219 [==============================] - 11s 50ms/step - loss: 0.1609 - accuracy: 0.9467 - val_loss: 0.2971 - val_accuracy: 0.9221\n",
      "Epoch 50/100\n",
      "219/219 [==============================] - 11s 50ms/step - loss: 0.1603 - accuracy: 0.9453 - val_loss: 0.3725 - val_accuracy: 0.8951\n",
      "Epoch 51/100\n",
      "219/219 [==============================] - 11s 50ms/step - loss: 0.1433 - accuracy: 0.9503 - val_loss: 0.3424 - val_accuracy: 0.9072\n",
      "Epoch 52/100\n",
      "219/219 [==============================] - 11s 51ms/step - loss: 0.1460 - accuracy: 0.9510 - val_loss: 0.3948 - val_accuracy: 0.8957\n",
      "Epoch 53/100\n",
      "219/219 [==============================] - 11s 52ms/step - loss: 0.1602 - accuracy: 0.9415 - val_loss: 0.3326 - val_accuracy: 0.9186\n",
      "Epoch 54/100\n",
      "219/219 [==============================] - 11s 52ms/step - loss: 0.1362 - accuracy: 0.9544 - val_loss: 0.3801 - val_accuracy: 0.9009\n",
      "Epoch 55/100\n",
      "219/219 [==============================] - 11s 51ms/step - loss: 0.1561 - accuracy: 0.9441 - val_loss: 0.3464 - val_accuracy: 0.9152\n",
      "Epoch 56/100\n",
      "219/219 [==============================] - 11s 50ms/step - loss: 0.1274 - accuracy: 0.9567 - val_loss: 0.3046 - val_accuracy: 0.9198\n",
      "Epoch 57/100\n",
      "219/219 [==============================] - 11s 50ms/step - loss: 0.1294 - accuracy: 0.9544 - val_loss: 0.3132 - val_accuracy: 0.9221\n",
      "Epoch 58/100\n",
      "219/219 [==============================] - 11s 50ms/step - loss: 0.1158 - accuracy: 0.9627 - val_loss: 0.3168 - val_accuracy: 0.9203\n",
      "Epoch 59/100\n",
      "219/219 [==============================] - 11s 50ms/step - loss: 0.1508 - accuracy: 0.9488 - val_loss: 0.3559 - val_accuracy: 0.9181\n",
      "Epoch 60/100\n",
      "219/219 [==============================] - 11s 50ms/step - loss: 0.1350 - accuracy: 0.9573 - val_loss: 0.3318 - val_accuracy: 0.9152\n",
      "Epoch 61/100\n",
      "219/219 [==============================] - 11s 50ms/step - loss: 0.1403 - accuracy: 0.9524 - val_loss: 0.3035 - val_accuracy: 0.9255\n",
      "Epoch 62/100\n",
      "219/219 [==============================] - 11s 51ms/step - loss: 0.1171 - accuracy: 0.9576 - val_loss: 0.3231 - val_accuracy: 0.9215\n",
      "Epoch 63/100\n",
      "219/219 [==============================] - 11s 50ms/step - loss: 0.1325 - accuracy: 0.9539 - val_loss: 0.3002 - val_accuracy: 0.9295\n",
      "Epoch 64/100\n",
      "219/219 [==============================] - 11s 51ms/step - loss: 0.1019 - accuracy: 0.9680 - val_loss: 0.3306 - val_accuracy: 0.9186\n",
      "Epoch 65/100\n",
      "219/219 [==============================] - 11s 49ms/step - loss: 0.1435 - accuracy: 0.9529 - val_loss: 0.3344 - val_accuracy: 0.9244\n",
      "Epoch 66/100\n",
      "219/219 [==============================] - 11s 49ms/step - loss: 0.1165 - accuracy: 0.9589 - val_loss: 0.2947 - val_accuracy: 0.9261\n",
      "Epoch 67/100\n",
      "219/219 [==============================] - 10s 48ms/step - loss: 0.1097 - accuracy: 0.9620 - val_loss: 0.3056 - val_accuracy: 0.9192\n",
      "Epoch 68/100\n",
      "219/219 [==============================] - 11s 48ms/step - loss: 0.1266 - accuracy: 0.9587 - val_loss: 0.2831 - val_accuracy: 0.9203\n",
      "Epoch 69/100\n",
      "219/219 [==============================] - 11s 48ms/step - loss: 0.1127 - accuracy: 0.9603 - val_loss: 0.3541 - val_accuracy: 0.9117\n",
      "Epoch 70/100\n",
      "219/219 [==============================] - 11s 48ms/step - loss: 0.1174 - accuracy: 0.9572 - val_loss: 0.3354 - val_accuracy: 0.9152\n",
      "Epoch 71/100\n",
      "219/219 [==============================] - 11s 49ms/step - loss: 0.1214 - accuracy: 0.9586 - val_loss: 0.3477 - val_accuracy: 0.9135\n",
      "Epoch 72/100\n",
      "219/219 [==============================] - 11s 50ms/step - loss: 0.1264 - accuracy: 0.9583 - val_loss: 0.3178 - val_accuracy: 0.9192\n",
      "Epoch 73/100\n",
      "219/219 [==============================] - 11s 49ms/step - loss: 0.0930 - accuracy: 0.9698 - val_loss: 0.3386 - val_accuracy: 0.9198\n",
      "Epoch 74/100\n",
      "219/219 [==============================] - 11s 49ms/step - loss: 0.1059 - accuracy: 0.9643 - val_loss: 0.3048 - val_accuracy: 0.9244\n",
      "Epoch 75/100\n",
      "219/219 [==============================] - 11s 49ms/step - loss: 0.0973 - accuracy: 0.9679 - val_loss: 0.3819 - val_accuracy: 0.9135\n",
      "Epoch 76/100\n",
      "219/219 [==============================] - 11s 50ms/step - loss: 0.1062 - accuracy: 0.9609 - val_loss: 0.3221 - val_accuracy: 0.9209\n",
      "Epoch 77/100\n",
      "219/219 [==============================] - 11s 50ms/step - loss: 0.0990 - accuracy: 0.9643 - val_loss: 0.3909 - val_accuracy: 0.9135\n",
      "Epoch 78/100\n",
      "219/219 [==============================] - 11s 50ms/step - loss: 0.1104 - accuracy: 0.9627 - val_loss: 0.3397 - val_accuracy: 0.9221\n",
      "Epoch 79/100\n",
      "219/219 [==============================] - 11s 50ms/step - loss: 0.1086 - accuracy: 0.9649 - val_loss: 0.3590 - val_accuracy: 0.9261\n",
      "Epoch 80/100\n",
      "219/219 [==============================] - 11s 50ms/step - loss: 0.1023 - accuracy: 0.9649 - val_loss: 0.3189 - val_accuracy: 0.9221\n",
      "Epoch 81/100\n",
      "219/219 [==============================] - 11s 50ms/step - loss: 0.1106 - accuracy: 0.9620 - val_loss: 0.3755 - val_accuracy: 0.9146\n",
      "Epoch 82/100\n",
      "219/219 [==============================] - 11s 51ms/step - loss: 0.1464 - accuracy: 0.9524 - val_loss: 0.2886 - val_accuracy: 0.9244\n",
      "Epoch 83/100\n",
      "219/219 [==============================] - 11s 50ms/step - loss: 0.0944 - accuracy: 0.9683 - val_loss: 0.3998 - val_accuracy: 0.9117\n",
      "Epoch 84/100\n",
      "219/219 [==============================] - 11s 50ms/step - loss: 0.0939 - accuracy: 0.9672 - val_loss: 0.3159 - val_accuracy: 0.9255\n",
      "Epoch 85/100\n",
      "219/219 [==============================] - 11s 50ms/step - loss: 0.0850 - accuracy: 0.9689 - val_loss: 0.3081 - val_accuracy: 0.9295\n",
      "Epoch 86/100\n",
      "219/219 [==============================] - 11s 50ms/step - loss: 0.0961 - accuracy: 0.9666 - val_loss: 0.3681 - val_accuracy: 0.9095\n",
      "Epoch 87/100\n",
      "219/219 [==============================] - 11s 51ms/step - loss: 0.1044 - accuracy: 0.9663 - val_loss: 0.3346 - val_accuracy: 0.9221\n",
      "Epoch 88/100\n",
      "219/219 [==============================] - 11s 51ms/step - loss: 0.1047 - accuracy: 0.9635 - val_loss: 0.3745 - val_accuracy: 0.9186\n",
      "Epoch 89/100\n",
      "219/219 [==============================] - 11s 50ms/step - loss: 0.0924 - accuracy: 0.9686 - val_loss: 0.3546 - val_accuracy: 0.9261\n",
      "Epoch 90/100\n",
      "219/219 [==============================] - 11s 50ms/step - loss: 0.1086 - accuracy: 0.9653 - val_loss: 0.3471 - val_accuracy: 0.9266\n",
      "Epoch 91/100\n",
      "219/219 [==============================] - 11s 50ms/step - loss: 0.1030 - accuracy: 0.9640 - val_loss: 0.3637 - val_accuracy: 0.9221\n",
      "Epoch 92/100\n",
      "219/219 [==============================] - 11s 51ms/step - loss: 0.0939 - accuracy: 0.9668 - val_loss: 0.3090 - val_accuracy: 0.9289\n",
      "Epoch 93/100\n",
      "219/219 [==============================] - 11s 51ms/step - loss: 0.0774 - accuracy: 0.9733 - val_loss: 0.3004 - val_accuracy: 0.9330\n",
      "Epoch 94/100\n",
      "219/219 [==============================] - 11s 50ms/step - loss: 0.0959 - accuracy: 0.9693 - val_loss: 0.3715 - val_accuracy: 0.9198\n",
      "Epoch 95/100\n",
      "219/219 [==============================] - 11s 50ms/step - loss: 0.0890 - accuracy: 0.9698 - val_loss: 0.3153 - val_accuracy: 0.9318\n",
      "Epoch 96/100\n",
      "219/219 [==============================] - 11s 51ms/step - loss: 0.1017 - accuracy: 0.9669 - val_loss: 0.3472 - val_accuracy: 0.9186\n",
      "Epoch 97/100\n",
      "219/219 [==============================] - 11s 50ms/step - loss: 0.1050 - accuracy: 0.9640 - val_loss: 0.3396 - val_accuracy: 0.9226\n",
      "Epoch 98/100\n",
      "219/219 [==============================] - 11s 52ms/step - loss: 0.0922 - accuracy: 0.9673 - val_loss: 0.3285 - val_accuracy: 0.9284\n",
      "Epoch 99/100\n",
      "219/219 [==============================] - 11s 50ms/step - loss: 0.0963 - accuracy: 0.9683 - val_loss: 0.2766 - val_accuracy: 0.9330\n",
      "Epoch 100/100\n",
      "219/219 [==============================] - 11s 51ms/step - loss: 0.0883 - accuracy: 0.9695 - val_loss: 0.3101 - val_accuracy: 0.9307\n"
     ]
    },
    {
     "data": {
      "text/plain": "<keras.callbacks.History at 0x1a19031c0>"
     },
     "execution_count": 342,
     "metadata": {},
     "output_type": "execute_result"
    }
   ],
   "source": [
    "# compile and fit model \n",
    "\n",
    "model.compile(optimizer='adam', loss='categorical_crossentropy', metrics=['accuracy']) \n",
    "\n",
    "model_ = model.fit(X_train, y_train, epochs=100, validation_data=(X_test, y_test), verbose=1)"
   ]
  },
  {
   "cell_type": "code",
   "execution_count": 423,
   "metadata": {},
   "outputs": [
    {
     "name": "stdout",
     "output_type": "stream",
     "text": [
      "Training Accuracy:  0.9955580830574036\n",
      "Testing Accuracy:  0.9358166456222534\n"
     ]
    }
   ],
   "source": [
    "# Evaluating the model on the training and testing set\n",
    "score = model.evaluate(X_train, y_train, verbose=0)\n",
    "print(\"Training Accuracy: \", score[1])\n",
    "\n",
    "score = model.evaluate(X_test, y_test, verbose=0)\n",
    "print(\"Testing Accuracy: \", score[1])"
   ]
  },
  {
   "cell_type": "markdown",
   "metadata": {},
   "source": [
    "These are great training and test scores! Our training and testing scores are relatively close (~7% difference) which shows the model hasn't been overfitted. 93.5% accuracy on unseen data is generally very good. "
   ]
  },
  {
   "cell_type": "code",
   "execution_count": 428,
   "metadata": {},
   "outputs": [
    {
     "data": {
      "image/png": "[encoded data removed]",
      "text/plain": "<Figure size 1080x360 with 2 Axes>"
     },
     "metadata": {
      "needs_background": "light"
     },
     "output_type": "display_data"
    }
   ],
   "source": [
    "history_dict=model_.history\n",
    "loss_values=history_dict['loss']\n",
    "acc_values=history_dict['accuracy']\n",
    "val_loss_values = history_dict['val_loss']\n",
    "val_acc_values=history_dict['val_accuracy']\n",
    "epochs=range(1,101)\n",
    "fig,(ax1,ax2)=plt.subplots(1,2,figsize=(15,5))\n",
    "ax1.plot(epochs,loss_values,'bo',label='Training Loss')\n",
    "ax1.plot(epochs,val_loss_values,'orange', label='Validation Loss')\n",
    "ax1.set_title('Training and validation loss')\n",
    "ax1.set_xlabel('Epochs')\n",
    "ax1.set_ylabel('Loss')\n",
    "ax1.legend()\n",
    "ax2.plot(epochs,acc_values,'bo', label='Training accuracy')\n",
    "ax2.plot(epochs,val_acc_values,'orange',label='Validation accuracy')\n",
    "ax2.set_title('Training and validation accuracy')\n",
    "ax2.set_xlabel('Epochs')\n",
    "ax2.set_ylabel('Accuracy')\n",
    "ax2.legend()\n",
    "plt.show()"
   ]
  },
  {
   "cell_type": "markdown",
   "metadata": {},
   "source": [
    "As we can see, the accuracy increases and flattens out around 90% accuracy at about 30 epochs and slowly moves up from there. "
   ]
  },
  {
   "cell_type": "markdown",
   "metadata": {},
   "source": [
    "_____________"
   ]
  },
  {
   "cell_type": "markdown",
   "metadata": {},
   "source": [
    "## Model 3"
   ]
  },
  {
   "cell_type": "markdown",
   "metadata": {},
   "source": [
    "Model redesign with enhanced feature space. Previously, we only used MFCC's as the feature to analyze for classification. In this round, we will include Chromagrams and Zero Cross Rate in our feature space to see if we can boost the accuracy score up. "
   ]
  },
  {
   "cell_type": "code",
   "execution_count": 489,
   "metadata": {},
   "outputs": [],
   "source": [
    "# create seperate objects for independent and dependent variables \n",
    "X = np.array(audio_df_xtra['features'].tolist())\n",
    "y = np.array(audio_df_xtra['class'].tolist())\n",
    "\n",
    "# label encode target variables \n",
    "le = LabelEncoder()\n",
    "y_ = to_categorical(le.fit_transform(y))\n",
    "\n",
    "# train/test split data\n",
    "X_train, X_test, y_train, y_test = train_test_split(X, y_, test_size=0.2, random_state=22)"
   ]
  },
  {
   "cell_type": "code",
   "execution_count": 490,
   "metadata": {},
   "outputs": [],
   "source": [
    "# reshape the data to fit into a 2-Dimensional CNN; 42 (beause two new features were added), 174, 1\n",
    "X_train = X_train.reshape(X_train.shape[0], 42, 174, 1)\n",
    "X_test = X_test.reshape(X_test.shape[0], 42, 174, 1)\n",
    "\n",
    "# create variable for the count of classes for our model's output layer; where predictions get mapped to the classes\n",
    "class_count = y_.shape[1]\n",
    "\n",
    "# variable for the shape of our independent variable data \n",
    "shape = (42, 174, 1)"
   ]
  },
  {
   "cell_type": "code",
   "execution_count": 491,
   "metadata": {},
   "outputs": [],
   "source": [
    "# model architecture - using the same architecture as the previous model \n",
    "\n",
    "# instantiate model\n",
    "model_3 = Sequential()\n",
    "\n",
    "# construct layers \n",
    "model_3.add(Conv2D(filters=16, kernel_size=2, activation='relu', input_shape=shape))\n",
    "model_3.add(MaxPooling2D(pool_size=2))\n",
    "model_3.add(Dropout(0.2))\n",
    "\n",
    "model_3.add(Conv2D(filters=32, kernel_size=2, activation='relu'))\n",
    "model_3.add(MaxPooling2D(pool_size=2))\n",
    "model_3.add(Dropout(0.2))\n",
    "\n",
    "model_3.add(Conv2D(filters=64, kernel_size=2, activation='relu'))\n",
    "model_3.add(MaxPooling2D(pool_size=2))\n",
    "model_3.add(Dropout(0.2))\n",
    "\n",
    "model_3.add(Conv2D(filters=128, kernel_size=2, activation='relu'))\n",
    "model_3.add(MaxPooling2D(pool_size=2))\n",
    "model_3.add(Dropout(0.2))\n",
    "\n",
    "model_3.add(GlobalAveragePooling2D())\n",
    "\n",
    "model_3.add(Dense(num_labels, activation='softmax')) "
   ]
  },
  {
   "cell_type": "code",
   "execution_count": 492,
   "metadata": {},
   "outputs": [],
   "source": [
    "# compile model \n",
    "\n",
    "model_3.compile(optimizer='adam', loss='categorical_crossentropy', metrics=['accuracy']) "
   ]
  },
  {
   "cell_type": "code",
   "execution_count": 493,
   "metadata": {},
   "outputs": [
    {
     "name": "stdout",
     "output_type": "stream",
     "text": [
      "Epoch 1/75\n",
      "219/219 [==============================] - 34s 89ms/step - loss: 2.2089 - accuracy: 0.3751 - val_loss: 1.5364 - val_accuracy: 0.5135\n",
      "Epoch 2/75\n",
      "219/219 [==============================] - 13s 61ms/step - loss: 1.3085 - accuracy: 0.5413 - val_loss: 1.2538 - val_accuracy: 0.6172\n",
      "Epoch 3/75\n",
      "219/219 [==============================] - 13s 61ms/step - loss: 1.1341 - accuracy: 0.6044 - val_loss: 1.1538 - val_accuracy: 0.6304\n",
      "Epoch 4/75\n",
      "219/219 [==============================] - 14s 62ms/step - loss: 0.9830 - accuracy: 0.6565 - val_loss: 0.9774 - val_accuracy: 0.6986\n",
      "Epoch 5/75\n",
      "219/219 [==============================] - 13s 60ms/step - loss: 0.8813 - accuracy: 0.6929 - val_loss: 0.9149 - val_accuracy: 0.7135\n",
      "Epoch 6/75\n",
      "219/219 [==============================] - 13s 57ms/step - loss: 0.7869 - accuracy: 0.7276 - val_loss: 0.8244 - val_accuracy: 0.7318\n",
      "Epoch 7/75\n",
      "219/219 [==============================] - 17s 76ms/step - loss: 0.6980 - accuracy: 0.7596 - val_loss: 0.8096 - val_accuracy: 0.7484\n",
      "Epoch 8/75\n",
      "219/219 [==============================] - 14s 63ms/step - loss: 0.6630 - accuracy: 0.7733 - val_loss: 0.7140 - val_accuracy: 0.7777\n",
      "Epoch 9/75\n",
      "219/219 [==============================] - 13s 57ms/step - loss: 0.6106 - accuracy: 0.7911 - val_loss: 0.6486 - val_accuracy: 0.7908\n",
      "Epoch 10/75\n",
      "219/219 [==============================] - 13s 60ms/step - loss: 0.5422 - accuracy: 0.8189 - val_loss: 0.5627 - val_accuracy: 0.8264\n",
      "Epoch 11/75\n",
      "219/219 [==============================] - 13s 60ms/step - loss: 0.5192 - accuracy: 0.8298 - val_loss: 0.5829 - val_accuracy: 0.8115\n",
      "Epoch 12/75\n",
      "219/219 [==============================] - 13s 58ms/step - loss: 0.4875 - accuracy: 0.8362 - val_loss: 0.5192 - val_accuracy: 0.8458\n",
      "Epoch 13/75\n",
      "219/219 [==============================] - 13s 57ms/step - loss: 0.4349 - accuracy: 0.8485 - val_loss: 0.5315 - val_accuracy: 0.8378\n",
      "Epoch 14/75\n",
      "219/219 [==============================] - 12s 54ms/step - loss: 0.4326 - accuracy: 0.8574 - val_loss: 0.4962 - val_accuracy: 0.8418\n",
      "Epoch 15/75\n",
      "219/219 [==============================] - 12s 53ms/step - loss: 0.4165 - accuracy: 0.8534 - val_loss: 0.4418 - val_accuracy: 0.8699\n",
      "Epoch 16/75\n",
      "219/219 [==============================] - 11s 52ms/step - loss: 0.3795 - accuracy: 0.8725 - val_loss: 0.5033 - val_accuracy: 0.8499\n",
      "Epoch 17/75\n",
      "219/219 [==============================] - 12s 53ms/step - loss: 0.3636 - accuracy: 0.8791 - val_loss: 0.4601 - val_accuracy: 0.8602\n",
      "Epoch 18/75\n",
      "219/219 [==============================] - 11s 52ms/step - loss: 0.3459 - accuracy: 0.8818 - val_loss: 0.5126 - val_accuracy: 0.8441\n",
      "Epoch 19/75\n",
      "219/219 [==============================] - 12s 53ms/step - loss: 0.3265 - accuracy: 0.8881 - val_loss: 0.3911 - val_accuracy: 0.8808\n",
      "Epoch 20/75\n",
      "219/219 [==============================] - 12s 53ms/step - loss: 0.3178 - accuracy: 0.8935 - val_loss: 0.4656 - val_accuracy: 0.8464\n",
      "Epoch 21/75\n",
      "219/219 [==============================] - 11s 52ms/step - loss: 0.3009 - accuracy: 0.8940 - val_loss: 0.3799 - val_accuracy: 0.8831\n",
      "Epoch 22/75\n",
      "219/219 [==============================] - 11s 52ms/step - loss: 0.2878 - accuracy: 0.8988 - val_loss: 0.3893 - val_accuracy: 0.8751\n",
      "Epoch 23/75\n",
      "219/219 [==============================] - 12s 53ms/step - loss: 0.3056 - accuracy: 0.8937 - val_loss: 0.3840 - val_accuracy: 0.8854\n",
      "Epoch 24/75\n",
      "219/219 [==============================] - 11s 52ms/step - loss: 0.2685 - accuracy: 0.9089 - val_loss: 0.4224 - val_accuracy: 0.8630\n",
      "Epoch 25/75\n",
      "219/219 [==============================] - 11s 52ms/step - loss: 0.2667 - accuracy: 0.9103 - val_loss: 0.3795 - val_accuracy: 0.8905\n",
      "Epoch 26/75\n",
      "219/219 [==============================] - 12s 53ms/step - loss: 0.2545 - accuracy: 0.9092 - val_loss: 0.3473 - val_accuracy: 0.8934\n",
      "Epoch 27/75\n",
      "219/219 [==============================] - 11s 52ms/step - loss: 0.2402 - accuracy: 0.9169 - val_loss: 0.3964 - val_accuracy: 0.8837\n",
      "Epoch 28/75\n",
      "219/219 [==============================] - 11s 52ms/step - loss: 0.2306 - accuracy: 0.9195 - val_loss: 0.3875 - val_accuracy: 0.8854\n",
      "Epoch 29/75\n",
      "219/219 [==============================] - 12s 53ms/step - loss: 0.2356 - accuracy: 0.9165 - val_loss: 0.3240 - val_accuracy: 0.9083\n",
      "Epoch 30/75\n",
      "219/219 [==============================] - 11s 52ms/step - loss: 0.2241 - accuracy: 0.9209 - val_loss: 0.3831 - val_accuracy: 0.8877\n",
      "Epoch 31/75\n",
      "219/219 [==============================] - 11s 52ms/step - loss: 0.2302 - accuracy: 0.9209 - val_loss: 0.3169 - val_accuracy: 0.9083\n",
      "Epoch 32/75\n",
      "219/219 [==============================] - 12s 53ms/step - loss: 0.2207 - accuracy: 0.9249 - val_loss: 0.3557 - val_accuracy: 0.8946\n",
      "Epoch 33/75\n",
      "219/219 [==============================] - 12s 53ms/step - loss: 0.1969 - accuracy: 0.9302 - val_loss: 0.3837 - val_accuracy: 0.8911\n",
      "Epoch 34/75\n",
      "219/219 [==============================] - 12s 53ms/step - loss: 0.1938 - accuracy: 0.9295 - val_loss: 0.3285 - val_accuracy: 0.9163\n",
      "Epoch 35/75\n",
      "219/219 [==============================] - 11s 52ms/step - loss: 0.1854 - accuracy: 0.9362 - val_loss: 0.3494 - val_accuracy: 0.9043\n",
      "Epoch 36/75\n",
      "219/219 [==============================] - 11s 52ms/step - loss: 0.1978 - accuracy: 0.9296 - val_loss: 0.3598 - val_accuracy: 0.9003\n",
      "Epoch 37/75\n",
      "219/219 [==============================] - 12s 53ms/step - loss: 0.1848 - accuracy: 0.9371 - val_loss: 0.3568 - val_accuracy: 0.9060\n",
      "Epoch 38/75\n",
      "219/219 [==============================] - 11s 52ms/step - loss: 0.1697 - accuracy: 0.9390 - val_loss: 0.3031 - val_accuracy: 0.9089\n",
      "Epoch 39/75\n",
      "219/219 [==============================] - 11s 52ms/step - loss: 0.1714 - accuracy: 0.9425 - val_loss: 0.3384 - val_accuracy: 0.9095\n",
      "Epoch 40/75\n",
      "219/219 [==============================] - 12s 53ms/step - loss: 0.1916 - accuracy: 0.9357 - val_loss: 0.3411 - val_accuracy: 0.9043\n",
      "Epoch 41/75\n",
      "219/219 [==============================] - 12s 54ms/step - loss: 0.1683 - accuracy: 0.9435 - val_loss: 0.4027 - val_accuracy: 0.8808\n",
      "Epoch 42/75\n",
      "219/219 [==============================] - 12s 53ms/step - loss: 0.1687 - accuracy: 0.9424 - val_loss: 0.3484 - val_accuracy: 0.9014\n",
      "Epoch 43/75\n",
      "219/219 [==============================] - 12s 55ms/step - loss: 0.1723 - accuracy: 0.9415 - val_loss: 0.4052 - val_accuracy: 0.8865\n",
      "Epoch 44/75\n",
      "219/219 [==============================] - 12s 55ms/step - loss: 0.1600 - accuracy: 0.9440 - val_loss: 0.3233 - val_accuracy: 0.9072\n",
      "Epoch 45/75\n",
      "219/219 [==============================] - 12s 54ms/step - loss: 0.1552 - accuracy: 0.9468 - val_loss: 0.3524 - val_accuracy: 0.9083\n",
      "Epoch 46/75\n",
      "219/219 [==============================] - 12s 55ms/step - loss: 0.1729 - accuracy: 0.9408 - val_loss: 0.3106 - val_accuracy: 0.9129\n",
      "Epoch 47/75\n",
      "219/219 [==============================] - 12s 55ms/step - loss: 0.1540 - accuracy: 0.9467 - val_loss: 0.3373 - val_accuracy: 0.9146\n",
      "Epoch 48/75\n",
      "219/219 [==============================] - 12s 55ms/step - loss: 0.1482 - accuracy: 0.9467 - val_loss: 0.3062 - val_accuracy: 0.9175\n",
      "Epoch 49/75\n",
      "219/219 [==============================] - 12s 55ms/step - loss: 0.1402 - accuracy: 0.9529 - val_loss: 0.3186 - val_accuracy: 0.9140\n",
      "Epoch 50/75\n",
      "219/219 [==============================] - 12s 54ms/step - loss: 0.1490 - accuracy: 0.9501 - val_loss: 0.2959 - val_accuracy: 0.9209\n",
      "Epoch 51/75\n",
      "219/219 [==============================] - 12s 54ms/step - loss: 0.1445 - accuracy: 0.9504 - val_loss: 0.3682 - val_accuracy: 0.9072\n",
      "Epoch 52/75\n",
      "219/219 [==============================] - 13s 59ms/step - loss: 0.1346 - accuracy: 0.9507 - val_loss: 0.3323 - val_accuracy: 0.9186\n",
      "Epoch 53/75\n",
      "219/219 [==============================] - 12s 55ms/step - loss: 0.1368 - accuracy: 0.9536 - val_loss: 0.3194 - val_accuracy: 0.9163\n",
      "Epoch 54/75\n",
      "219/219 [==============================] - 12s 55ms/step - loss: 0.1383 - accuracy: 0.9509 - val_loss: 0.4121 - val_accuracy: 0.8951\n",
      "Epoch 55/75\n",
      "219/219 [==============================] - 12s 55ms/step - loss: 0.1440 - accuracy: 0.9500 - val_loss: 0.3531 - val_accuracy: 0.9129\n",
      "Epoch 56/75\n",
      "219/219 [==============================] - 12s 54ms/step - loss: 0.1170 - accuracy: 0.9596 - val_loss: 0.3669 - val_accuracy: 0.9100\n",
      "Epoch 57/75\n",
      "219/219 [==============================] - 12s 54ms/step - loss: 0.1428 - accuracy: 0.9514 - val_loss: 0.3085 - val_accuracy: 0.9226\n",
      "Epoch 58/75\n",
      "219/219 [==============================] - 12s 54ms/step - loss: 0.1218 - accuracy: 0.9580 - val_loss: 0.3494 - val_accuracy: 0.9163\n",
      "Epoch 59/75\n",
      "219/219 [==============================] - 12s 54ms/step - loss: 0.1186 - accuracy: 0.9583 - val_loss: 0.3580 - val_accuracy: 0.9175\n",
      "Epoch 60/75\n",
      "219/219 [==============================] - 13s 61ms/step - loss: 0.1319 - accuracy: 0.9557 - val_loss: 0.3341 - val_accuracy: 0.9083\n",
      "Epoch 61/75\n",
      "219/219 [==============================] - 12s 56ms/step - loss: 0.1660 - accuracy: 0.9441 - val_loss: 0.3339 - val_accuracy: 0.9146\n",
      "Epoch 62/75\n",
      "219/219 [==============================] - 13s 57ms/step - loss: 0.1422 - accuracy: 0.9526 - val_loss: 0.3470 - val_accuracy: 0.9112\n",
      "Epoch 63/75\n",
      "219/219 [==============================] - 12s 57ms/step - loss: 0.1250 - accuracy: 0.9587 - val_loss: 0.3098 - val_accuracy: 0.9175\n",
      "Epoch 64/75\n",
      "219/219 [==============================] - 12s 56ms/step - loss: 0.1124 - accuracy: 0.9607 - val_loss: 0.4023 - val_accuracy: 0.9054\n",
      "Epoch 65/75\n",
      "219/219 [==============================] - 12s 55ms/step - loss: 0.1136 - accuracy: 0.9587 - val_loss: 0.3280 - val_accuracy: 0.9203\n",
      "Epoch 66/75\n",
      "219/219 [==============================] - 12s 54ms/step - loss: 0.1243 - accuracy: 0.9560 - val_loss: 0.3651 - val_accuracy: 0.9106\n",
      "Epoch 67/75\n",
      "219/219 [==============================] - 12s 54ms/step - loss: 0.1205 - accuracy: 0.9580 - val_loss: 0.3372 - val_accuracy: 0.9215\n",
      "Epoch 68/75\n",
      "219/219 [==============================] - 12s 54ms/step - loss: 0.1234 - accuracy: 0.9589 - val_loss: 0.3401 - val_accuracy: 0.9198\n",
      "Epoch 69/75\n",
      "219/219 [==============================] - 12s 53ms/step - loss: 0.1034 - accuracy: 0.9648 - val_loss: 0.4126 - val_accuracy: 0.9072\n",
      "Epoch 70/75\n",
      "219/219 [==============================] - 12s 54ms/step - loss: 0.1121 - accuracy: 0.9617 - val_loss: 0.3644 - val_accuracy: 0.9175\n",
      "Epoch 71/75\n",
      "219/219 [==============================] - 12s 54ms/step - loss: 0.1193 - accuracy: 0.9584 - val_loss: 0.3928 - val_accuracy: 0.9095\n",
      "Epoch 72/75\n",
      "219/219 [==============================] - 12s 53ms/step - loss: 0.1199 - accuracy: 0.9597 - val_loss: 0.3952 - val_accuracy: 0.9083\n",
      "Epoch 73/75\n",
      "219/219 [==============================] - 12s 53ms/step - loss: 0.1005 - accuracy: 0.9650 - val_loss: 0.3479 - val_accuracy: 0.9140\n",
      "Epoch 74/75\n",
      "219/219 [==============================] - 12s 53ms/step - loss: 0.1005 - accuracy: 0.9655 - val_loss: 0.3604 - val_accuracy: 0.9152\n",
      "Epoch 75/75\n",
      "219/219 [==============================] - 12s 53ms/step - loss: 0.1121 - accuracy: 0.9643 - val_loss: 0.3399 - val_accuracy: 0.9209\n"
     ]
    }
   ],
   "source": [
    "#num_epochs = 12\n",
    "#num_batch_size = 128\n",
    "\n",
    "num_epochs = 72\n",
    "num_batch_size = 256\n",
    "\n",
    "model_3_ = model_3.fit(X_train, y_train, epochs=75, validation_data=(X_test, y_test), verbose=1)\n"
   ]
  },
  {
   "cell_type": "code",
   "execution_count": 494,
   "metadata": {},
   "outputs": [
    {
     "name": "stdout",
     "output_type": "stream",
     "text": [
      "Training Accuracy:  0.9921191930770874\n",
      "Testing Accuracy:  0.9209169149398804\n"
     ]
    }
   ],
   "source": [
    "# Evaluating the model on the training and testing set\n",
    "score = model_3.evaluate(X_train, y_train, verbose=0)\n",
    "print(\"Training Accuracy: \", score[1])\n",
    "\n",
    "score = model_3.evaluate(X_test, y_test, verbose=0)\n",
    "print(\"Testing Accuracy: \", score[1])"
   ]
  },
  {
   "cell_type": "code",
   "execution_count": 495,
   "metadata": {},
   "outputs": [
    {
     "data": {
      "image/png": "[encoded data removed]",
      "text/plain": "<Figure size 1080x360 with 2 Axes>"
     },
     "metadata": {
      "needs_background": "light"
     },
     "output_type": "display_data"
    }
   ],
   "source": [
    "history_dict=model_3_.history\n",
    "loss_values=history_dict['loss']\n",
    "acc_values=history_dict['accuracy']\n",
    "val_loss_values = history_dict['val_loss']\n",
    "val_acc_values=history_dict['val_accuracy']\n",
    "epochs=range(1,76)\n",
    "fig,(ax1,ax2)=plt.subplots(1,2,figsize=(15,5))\n",
    "ax1.plot(epochs,loss_values,'bo',label='Training Loss')\n",
    "ax1.plot(epochs,val_loss_values,'orange', label='Validation Loss')\n",
    "ax1.set_title('Training and validation loss')\n",
    "ax1.set_xlabel('Epochs')\n",
    "ax1.set_ylabel('Loss')\n",
    "ax1.legend()\n",
    "ax2.plot(epochs,acc_values,'bo', label='Training accuracy')\n",
    "ax2.plot(epochs,val_acc_values,'orange',label='Validation accuracy')\n",
    "ax2.set_title('Training and validation accuracy')\n",
    "ax2.set_xlabel('Epochs')\n",
    "ax2.set_ylabel('Accuracy')\n",
    "ax2.legend()\n",
    "plt.show()"
   ]
  },
  {
   "cell_type": "markdown",
   "metadata": {},
   "source": [
    "We get basically the same evaluation scores as the previous model, meaning our added features didn't contibute anything. MFCC extraction is a *very* popular method for audio analysis and clearly for a reason. It is robust in the amount of information it extracts, and performs very well on it's own in classifying audio."
   ]
  }
 ],
 "metadata": {
  "kernelspec": {
   "display_name": "Python 3.8.8 64-bit ('base': conda)",
   "name": "python388jvsc74a57bd0dca0ade3e726a953b501b15e8e990130d2b7799f14cfd9f4271676035ebe5511"
  },
  "language_info": {
   "codemirror_mode": {
    "name": "ipython",
    "version": 3
   },
   "file_extension": ".py",
   "mimetype": "text/x-python",
   "name": "python",
   "nbconvert_exporter": "python",
   "pygments_lexer": "ipython3",
   "version": "3.8.8"
  },
  "orig_nbformat": 3
 },
 "nbformat": 4,
 "nbformat_minor": 4
}